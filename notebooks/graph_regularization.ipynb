{
  "nbformat": 4,
  "nbformat_minor": 0,
  "metadata": {
    "colab": {
      "name": "gnn.ipynb",
      "provenance": [],
      "collapsed_sections": []
    },
    "kernelspec": {
      "name": "python3",
      "display_name": "Python 3"
    },
    "language_info": {
      "name": "python"
    }
  },
  "cells": [
    {
      "cell_type": "code",
      "execution_count": 1,
      "metadata": {
        "id": "q6ZVSjPcZX7u"
      },
      "outputs": [],
      "source": [
        "import tensorflow as tf\n",
        "import pandas as pd\n",
        "import numpy as np\n",
        "import matplotlib.pyplot as plt\n",
        "import seaborn as sns"
      ]
    },
    {
      "cell_type": "code",
      "source": [
        "import zipfile\n",
        "\n",
        "with zipfile.ZipFile('Dataset.zip','r') as zip_ref:\n",
        "  zip_ref.extractall()"
      ],
      "metadata": {
        "id": "SSFO10zYZvf5"
      },
      "execution_count": 2,
      "outputs": []
    },
    {
      "cell_type": "markdown",
      "source": [
        "**Loading the dataset**"
      ],
      "metadata": {
        "id": "8PHCWtsTiZ1P"
      }
    },
    {
      "cell_type": "code",
      "source": [
        "import glob\n",
        "import cv2\n",
        "import os\n",
        "\n",
        "data = []\n",
        "for img in glob.glob(\"Dataset/train/*/*.png\"):\n",
        "  label = int(img.split(os.path.sep)[2][-1])-1\n",
        "  image = cv2.imread(img)\n",
        "  data.append((image,label))\n",
        "\n",
        "data = np.array(data)"
      ],
      "metadata": {
        "colab": {
          "base_uri": "https://localhost:8080/"
        },
        "id": "t8UJxKFpawr6",
        "outputId": "97524d7d-a094-4505-fbbf-52f71d46bd95"
      },
      "execution_count": 3,
      "outputs": [
        {
          "output_type": "stream",
          "name": "stderr",
          "text": [
            "/usr/local/lib/python3.7/dist-packages/ipykernel_launcher.py:11: VisibleDeprecationWarning: Creating an ndarray from ragged nested sequences (which is a list-or-tuple of lists-or-tuples-or ndarrays with different lengths or shapes) is deprecated. If you meant to do this, you must specify 'dtype=object' when creating the ndarray.\n",
            "  # This is added back by InteractiveShellApp.init_path()\n"
          ]
        }
      ]
    },
    {
      "cell_type": "markdown",
      "source": [
        "**Plot image**"
      ],
      "metadata": {
        "id": "c7zR6qBikXCd"
      }
    },
    {
      "cell_type": "code",
      "source": [
        "def plot(data):\n",
        "  image,label = data\n",
        "  plt.imshow(tf.squeeze(image))\n",
        "  plt.show()\n",
        "  print(\"\\nLabel: \",label)"
      ],
      "metadata": {
        "id": "f-e2AEeojx0i"
      },
      "execution_count": 4,
      "outputs": []
    },
    {
      "cell_type": "code",
      "source": [
        "plot(data[0])"
      ],
      "metadata": {
        "colab": {
          "base_uri": "https://localhost:8080/",
          "height": 304
        },
        "id": "ZTjIIJrbknnf",
        "outputId": "9e9831e2-6ee1-46b8-cec0-d3faa6483ed3"
      },
      "execution_count": 5,
      "outputs": [
        {
          "output_type": "display_data",
          "data": {
            "text/plain": [
              "<Figure size 432x288 with 1 Axes>"
            ],
            "image/png": "[encoded data removed]"
          },
          "metadata": {
            "needs_background": "light"
          }
        },
        {
          "output_type": "stream",
          "name": "stdout",
          "text": [
            "\n",
            "Label:  2\n"
          ]
        }
      ]
    },
    {
      "cell_type": "markdown",
      "source": [
        "**Shuffling the dataset**"
      ],
      "metadata": {
        "id": "dqSxIgsHlkJx"
      }
    },
    {
      "cell_type": "code",
      "source": [
        "np.random.shuffle(data)"
      ],
      "metadata": {
        "id": "J5lfryR2kpJO"
      },
      "execution_count": 6,
      "outputs": []
    },
    {
      "cell_type": "code",
      "source": [
        "data.shape"
      ],
      "metadata": {
        "colab": {
          "base_uri": "https://localhost:8080/"
        },
        "id": "7MPlII0-uFGq",
        "outputId": "be727660-78af-4c96-d988-c9204daa1231"
      },
      "execution_count": 7,
      "outputs": [
        {
          "output_type": "execute_result",
          "data": {
            "text/plain": [
              "(440, 2)"
            ]
          },
          "metadata": {},
          "execution_count": 7
        }
      ]
    },
    {
      "cell_type": "markdown",
      "source": [
        "**Train test split**"
      ],
      "metadata": {
        "id": "u1d2ZGsnmmxI"
      }
    },
    {
      "cell_type": "code",
      "source": [
        "n_images = len(data)\n",
        "train_size = int(0.75 * n_images)\n",
        "\n",
        "train_data = data[:train_size]\n",
        "test_data = data[train_size:]"
      ],
      "metadata": {
        "id": "8pqErMHzmSjS"
      },
      "execution_count": 8,
      "outputs": []
    },
    {
      "cell_type": "code",
      "source": [
        "train_data.shape,test_data.shape"
      ],
      "metadata": {
        "colab": {
          "base_uri": "https://localhost:8080/"
        },
        "id": "IMR0Gholm7CQ",
        "outputId": "64b6fa76-fbb2-4d32-95a2-cb8a41edaf39"
      },
      "execution_count": 9,
      "outputs": [
        {
          "output_type": "execute_result",
          "data": {
            "text/plain": [
              "((330, 2), (110, 2))"
            ]
          },
          "metadata": {},
          "execution_count": 9
        }
      ]
    },
    {
      "cell_type": "markdown",
      "source": [
        "**Scaling and RGB-Grayscale conversion**"
      ],
      "metadata": {
        "id": "SVLaBByRnYLf"
      }
    },
    {
      "cell_type": "code",
      "source": [
        "def scale(image):\n",
        "  return image/255.0\n",
        "\n",
        "IMG_DIMENSION = [299,299]\n",
        "\n",
        "def get_resized_image(image):\n",
        "  image = image[:,:,:3]\n",
        "  image = tf.image.resize(image, IMG_DIMENSION)\n",
        "  return image"
      ],
      "metadata": {
        "id": "yGspO-cFm9ln"
      },
      "execution_count": 10,
      "outputs": []
    },
    {
      "cell_type": "code",
      "source": [
        "for i in range(len(train_data)):\n",
        "  train_data[i][0] = get_resized_image(train_data[i][0])\n",
        "\n",
        "for i in range(len(test_data)):\n",
        "  test_data[i][0] = get_resized_image(test_data[i][0])"
      ],
      "metadata": {
        "id": "7JlUJ56knkkv"
      },
      "execution_count": 11,
      "outputs": []
    },
    {
      "cell_type": "code",
      "source": [
        "plot(train_data[0])"
      ],
      "metadata": {
        "colab": {
          "base_uri": "https://localhost:8080/",
          "height": 321
        },
        "id": "YzfgoyT6oAHP",
        "outputId": "edb76287-d0c2-467f-a3c8-6b36f956f8c1"
      },
      "execution_count": 12,
      "outputs": [
        {
          "output_type": "stream",
          "name": "stderr",
          "text": [
            "Clipping input data to the valid range for imshow with RGB data ([0..1] for floats or [0..255] for integers).\n"
          ]
        },
        {
          "output_type": "display_data",
          "data": {
            "text/plain": [
              "<Figure size 432x288 with 1 Axes>"
            ],
            "image/png": "[encoded data removed]"
          },
          "metadata": {
            "needs_background": "light"
          }
        },
        {
          "output_type": "stream",
          "name": "stdout",
          "text": [
            "\n",
            "Label:  0\n"
          ]
        }
      ]
    },
    {
      "cell_type": "markdown",
      "source": [
        "**Seperating data and labels**"
      ],
      "metadata": {
        "id": "8W1DpecyrDED"
      }
    },
    {
      "cell_type": "code",
      "source": [
        "X_train,Y_train = train_data[:,0],train_data[:,1]\n",
        "X_test,Y_test = test_data[:,0],test_data[:,1]"
      ],
      "metadata": {
        "id": "pqS5WAZgq66L"
      },
      "execution_count": 13,
      "outputs": []
    },
    {
      "cell_type": "code",
      "source": [
        "X_train = np.array([np.array(val) for val in X_train])\n",
        "X_test = np.array([np.array(val) for val in X_test])\n",
        "Y_train = np.array([np.array(val) for val in Y_train])\n",
        "Y_test = np.array([np.array(val) for val in Y_test])"
      ],
      "metadata": {
        "id": "wrgx-8BevS8K"
      },
      "execution_count": 14,
      "outputs": []
    },
    {
      "cell_type": "markdown",
      "source": [
        "### **Neural structured learning**"
      ],
      "metadata": {
        "id": "12T2LWe9TdYQ"
      }
    },
    {
      "cell_type": "code",
      "source": [
        "! pip install --quiet neural-structured-learning"
      ],
      "metadata": {
        "id": "M9bF9v26pnSJ",
        "colab": {
          "base_uri": "https://localhost:8080/"
        },
        "outputId": "b27c7773-09e2-428b-f961-695151300c45"
      },
      "execution_count": 15,
      "outputs": [
        {
          "output_type": "stream",
          "name": "stdout",
          "text": [
            "\u001b[?25l\r\u001b[K     |██▊                             | 10 kB 21.0 MB/s eta 0:00:01\r\u001b[K     |█████▍                          | 20 kB 26.0 MB/s eta 0:00:01\r\u001b[K     |████████▏                       | 30 kB 31.2 MB/s eta 0:00:01\r\u001b[K     |██████████▉                     | 40 kB 30.8 MB/s eta 0:00:01\r\u001b[K     |█████████████▋                  | 51 kB 22.9 MB/s eta 0:00:01\r\u001b[K     |████████████████▎               | 61 kB 25.9 MB/s eta 0:00:01\r\u001b[K     |███████████████████             | 71 kB 24.9 MB/s eta 0:00:01\r\u001b[K     |█████████████████████▊          | 81 kB 25.4 MB/s eta 0:00:01\r\u001b[K     |████████████████████████▌       | 92 kB 26.7 MB/s eta 0:00:01\r\u001b[K     |███████████████████████████▏    | 102 kB 27.0 MB/s eta 0:00:01\r\u001b[K     |██████████████████████████████  | 112 kB 27.0 MB/s eta 0:00:01\r\u001b[K     |████████████████████████████████| 120 kB 27.0 MB/s \n",
            "\u001b[?25h"
          ]
        }
      ]
    },
    {
      "cell_type": "code",
      "source": [
        "! pip install --quiet tensorflow-hub"
      ],
      "metadata": {
        "id": "bJ22-M91YAlH"
      },
      "execution_count": 16,
      "outputs": []
    },
    {
      "cell_type": "markdown",
      "source": [
        "### **Generating image embeddings**"
      ],
      "metadata": {
        "id": "hfc8VunwXMN-"
      }
    },
    {
      "cell_type": "code",
      "source": [
        "import neural_structured_learning as nsl\n",
        "import tensorflow_hub as hub"
      ],
      "metadata": {
        "id": "oeItqrSWYEgm"
      },
      "execution_count": 17,
      "outputs": []
    },
    {
      "cell_type": "code",
      "source": [
        "def _int64_feature(value):\n",
        "  \"\"\"Returns int64 tf.train.Feature.\"\"\"\n",
        "  return tf.train.Feature(int64_list=tf.train.Int64List(value=value.tolist()))\n",
        "\n",
        "\n",
        "def _bytes_feature(value):\n",
        "  \"\"\"Returns bytes tf.train.Feature.\"\"\"\n",
        "  return tf.train.Feature(\n",
        "      bytes_list=tf.train.BytesList(value=[value.encode('utf-8')]))\n",
        "\n",
        "\n",
        "def _float_feature(value):\n",
        "  \"\"\"Returns float tf.train.Feature.\"\"\"\n",
        "  return tf.train.Feature(float_list=tf.train.FloatList(value=value.tolist()))"
      ],
      "metadata": {
        "id": "ewR_E5eNpnU0"
      },
      "execution_count": 18,
      "outputs": []
    },
    {
      "cell_type": "markdown",
      "source": [
        "## **Loading pretrained inception v3 model for image embeddings**"
      ],
      "metadata": {
        "id": "114YevkvZkh-"
      }
    },
    {
      "cell_type": "markdown",
      "source": [
        "**Keras layer for inception v3 feature vector**"
      ],
      "metadata": {
        "id": "RW-64njDkUm3"
      }
    },
    {
      "cell_type": "code",
      "source": [
        "hub_URL = \"https://tfhub.dev/google/imagenet/inception_v3/feature_vector/5\"\n",
        "\n",
        "hub_layer = hub.KerasLayer(hub_URL,trainable=False)\n",
        "hub_layer"
      ],
      "metadata": {
        "colab": {
          "base_uri": "https://localhost:8080/"
        },
        "id": "8Vjk_AjDZj2v",
        "outputId": "ff1e5db0-49b3-4cec-889a-d2886008aed9"
      },
      "execution_count": 19,
      "outputs": [
        {
          "output_type": "execute_result",
          "data": {
            "text/plain": [
              "<tensorflow_hub.keras_layer.KerasLayer at 0x7f5db0fb6910>"
            ]
          },
          "metadata": {},
          "execution_count": 19
        }
      ]
    },
    {
      "cell_type": "markdown",
      "source": [
        "**Module specifications**"
      ],
      "metadata": {
        "id": "snQyzYj4kdzX"
      }
    },
    {
      "cell_type": "code",
      "source": [
        "hub_link = \"https://storage.googleapis.com/tfhub-modules/google/imagenet/inception_v3/feature_vector/1.tar.gz\"\n",
        "\n",
        "module_spec = hub.load_module_spec(hub_link)"
      ],
      "metadata": {
        "id": "2LpXXaoBft7P"
      },
      "execution_count": 20,
      "outputs": []
    },
    {
      "cell_type": "code",
      "source": [
        "height, width = hub.get_expected_image_size(module_spec)\n",
        "height,width"
      ],
      "metadata": {
        "colab": {
          "base_uri": "https://localhost:8080/"
        },
        "id": "tgzJlUQXhlzw",
        "outputId": "6adedfbf-2887-45df-f35c-bb4c25f23e96"
      },
      "execution_count": 21,
      "outputs": [
        {
          "output_type": "execute_result",
          "data": {
            "text/plain": [
              "(299, 299)"
            ]
          },
          "metadata": {},
          "execution_count": 21
        }
      ]
    },
    {
      "cell_type": "code",
      "source": [
        "vector = hub_layer([X_train[0]])"
      ],
      "metadata": {
        "id": "LMl1qaxJiijv"
      },
      "execution_count": 22,
      "outputs": []
    },
    {
      "cell_type": "code",
      "source": [
        "vector[0].shape"
      ],
      "metadata": {
        "colab": {
          "base_uri": "https://localhost:8080/"
        },
        "id": "wGX4u04wj7RO",
        "outputId": "cf7a99d1-1f74-4422-d8b8-e25dd420ba93"
      },
      "execution_count": 23,
      "outputs": [
        {
          "output_type": "execute_result",
          "data": {
            "text/plain": [
              "TensorShape([2048])"
            ]
          },
          "metadata": {},
          "execution_count": 23
        }
      ]
    },
    {
      "cell_type": "markdown",
      "source": [
        "**Creating embedding example**"
      ],
      "metadata": {
        "id": "XY-BSqwAljqV"
      }
    },
    {
      "cell_type": "code",
      "source": [
        "def create_embedding_example(image,image_id):\n",
        "  # Create image embedding\n",
        "  image_embedding = hub_layer([image])\n",
        "  image_embedding = tf.reshape(image_embedding, shape=[-1])\n",
        "\n",
        "  # Create features dictionary containing id and embedding\n",
        "  features = {\n",
        "      'id': _bytes_feature(str(image_id)),\n",
        "      'embedding': _float_feature(image_embedding.numpy())\n",
        "  }\n",
        "  return tf.train.Example(features=tf.train.Features(feature=features))"
      ],
      "metadata": {
        "id": "St_8dc1cpnX4"
      },
      "execution_count": 24,
      "outputs": []
    },
    {
      "cell_type": "code",
      "source": [
        "def create_embeddings(images, output_path, starting_id):\n",
        "  id = int(starting_id)\n",
        "  with tf.io.TFRecordWriter(output_path) as writer:\n",
        "    for image in images:\n",
        "      example = create_embedding_example(image, id)\n",
        "      id = id + 1\n",
        "      writer.write(example.SerializeToString())\n",
        "  return id"
      ],
      "metadata": {
        "id": "FzY9_G0Ulm4c"
      },
      "execution_count": 25,
      "outputs": []
    },
    {
      "cell_type": "code",
      "source": [
        "create_embeddings(X_train, 'Graph/embeddings.tfr', 0)"
      ],
      "metadata": {
        "colab": {
          "base_uri": "https://localhost:8080/"
        },
        "id": "v9R7x6QRmU-p",
        "outputId": "526f8407-7409-4ef5-9ff6-29f099839fdb"
      },
      "execution_count": 26,
      "outputs": [
        {
          "output_type": "execute_result",
          "data": {
            "text/plain": [
              "330"
            ]
          },
          "metadata": {},
          "execution_count": 26
        }
      ]
    },
    {
      "cell_type": "markdown",
      "source": [
        "### **Similarity graph synthesis using nsl**"
      ],
      "metadata": {
        "id": "RQ4rtVKcpuiz"
      }
    },
    {
      "cell_type": "code",
      "source": [
        "graph_builder_config = nsl.configs.GraphBuilderConfig(\n",
        "    similarity_threshold=0.85, lsh_splits=32, lsh_rounds=15, random_seed=12345)\n",
        "\n",
        "nsl.tools.build_graph_from_config(['Graph/embeddings.tfr'],\n",
        "                                  'Graph/graph.tsv',\n",
        "                                  graph_builder_config)"
      ],
      "metadata": {
        "id": "9xQLMWuwmqV0"
      },
      "execution_count": 27,
      "outputs": []
    },
    {
      "cell_type": "code",
      "source": [
        "graph = pd.read_csv('Graph/graph.tsv',sep='\\t')\n",
        "graph.head(5)"
      ],
      "metadata": {
        "colab": {
          "base_uri": "https://localhost:8080/",
          "height": 206
        },
        "id": "SoTyAPDmp-d0",
        "outputId": "9e5900b2-bc05-43b6-9afc-7596121175b2"
      },
      "execution_count": 28,
      "outputs": [
        {
          "output_type": "execute_result",
          "data": {
            "text/plain": [
              "   288  140  0.933028\n",
              "0  140  288  0.933028\n",
              "1  288  129  0.957339\n",
              "2  129  288  0.957339\n",
              "3  288  319  0.952864\n",
              "4  319  288  0.952864"
            ],
            "text/html": [
              "\n",
              "  <div id=\"df-724c573f-02ae-4ea9-bfad-3993d8c79eb2\">\n",
              "    <div class=\"colab-df-container\">\n",
              "      <div>\n",
              "<style scoped>\n",
              "    .dataframe tbody tr th:only-of-type {\n",
              "        vertical-align: middle;\n",
              "    }\n",
              "\n",
              "    .dataframe tbody tr th {\n",
              "        vertical-align: top;\n",
              "    }\n",
              "\n",
              "    .dataframe thead th {\n",
              "        text-align: right;\n",
              "    }\n",
              "</style>\n",
              "<table border=\"1\" class=\"dataframe\">\n",
              "  <thead>\n",
              "    <tr style=\"text-align: right;\">\n",
              "      <th></th>\n",
              "      <th>288</th>\n",
              "      <th>140</th>\n",
              "      <th>0.933028</th>\n",
              "    </tr>\n",
              "  </thead>\n",
              "  <tbody>\n",
              "    <tr>\n",
              "      <th>0</th>\n",
              "      <td>140</td>\n",
              "      <td>288</td>\n",
              "      <td>0.933028</td>\n",
              "    </tr>\n",
              "    <tr>\n",
              "      <th>1</th>\n",
              "      <td>288</td>\n",
              "      <td>129</td>\n",
              "      <td>0.957339</td>\n",
              "    </tr>\n",
              "    <tr>\n",
              "      <th>2</th>\n",
              "      <td>129</td>\n",
              "      <td>288</td>\n",
              "      <td>0.957339</td>\n",
              "    </tr>\n",
              "    <tr>\n",
              "      <th>3</th>\n",
              "      <td>288</td>\n",
              "      <td>319</td>\n",
              "      <td>0.952864</td>\n",
              "    </tr>\n",
              "    <tr>\n",
              "      <th>4</th>\n",
              "      <td>319</td>\n",
              "      <td>288</td>\n",
              "      <td>0.952864</td>\n",
              "    </tr>\n",
              "  </tbody>\n",
              "</table>\n",
              "</div>\n",
              "      <button class=\"colab-df-convert\" onclick=\"convertToInteractive('df-724c573f-02ae-4ea9-bfad-3993d8c79eb2')\"\n",
              "              title=\"Convert this dataframe to an interactive table.\"\n",
              "              style=\"display:none;\">\n",
              "        \n",
              "  <svg xmlns=\"http://www.w3.org/2000/svg\" height=\"24px\"viewBox=\"0 0 24 24\"\n",
              "       width=\"24px\">\n",
              "    <path d=\"M0 0h24v24H0V0z\" fill=\"none\"/>\n",
              "    <path d=\"M18.56 5.44l.94 2.06.94-2.06 2.06-.94-2.06-.94-.94-2.06-.94 2.06-2.06.94zm-11 1L8.5 8.5l.94-2.06 2.06-.94-2.06-.94L8.5 2.5l-.94 2.06-2.06.94zm10 10l.94 2.06.94-2.06 2.06-.94-2.06-.94-.94-2.06-.94 2.06-2.06.94z\"/><path d=\"M17.41 7.96l-1.37-1.37c-.4-.4-.92-.59-1.43-.59-.52 0-1.04.2-1.43.59L10.3 9.45l-7.72 7.72c-.78.78-.78 2.05 0 2.83L4 21.41c.39.39.9.59 1.41.59.51 0 1.02-.2 1.41-.59l7.78-7.78 2.81-2.81c.8-.78.8-2.07 0-2.86zM5.41 20L4 18.59l7.72-7.72 1.47 1.35L5.41 20z\"/>\n",
              "  </svg>\n",
              "      </button>\n",
              "      \n",
              "  <style>\n",
              "    .colab-df-container {\n",
              "      display:flex;\n",
              "      flex-wrap:wrap;\n",
              "      gap: 12px;\n",
              "    }\n",
              "\n",
              "    .colab-df-convert {\n",
              "      background-color: #E8F0FE;\n",
              "      border: none;\n",
              "      border-radius: 50%;\n",
              "      cursor: pointer;\n",
              "      display: none;\n",
              "      fill: #1967D2;\n",
              "      height: 32px;\n",
              "      padding: 0 0 0 0;\n",
              "      width: 32px;\n",
              "    }\n",
              "\n",
              "    .colab-df-convert:hover {\n",
              "      background-color: #E2EBFA;\n",
              "      box-shadow: 0px 1px 2px rgba(60, 64, 67, 0.3), 0px 1px 3px 1px rgba(60, 64, 67, 0.15);\n",
              "      fill: #174EA6;\n",
              "    }\n",
              "\n",
              "    [theme=dark] .colab-df-convert {\n",
              "      background-color: #3B4455;\n",
              "      fill: #D2E3FC;\n",
              "    }\n",
              "\n",
              "    [theme=dark] .colab-df-convert:hover {\n",
              "      background-color: #434B5C;\n",
              "      box-shadow: 0px 1px 3px 1px rgba(0, 0, 0, 0.15);\n",
              "      filter: drop-shadow(0px 1px 2px rgba(0, 0, 0, 0.3));\n",
              "      fill: #FFFFFF;\n",
              "    }\n",
              "  </style>\n",
              "\n",
              "      <script>\n",
              "        const buttonEl =\n",
              "          document.querySelector('#df-724c573f-02ae-4ea9-bfad-3993d8c79eb2 button.colab-df-convert');\n",
              "        buttonEl.style.display =\n",
              "          google.colab.kernel.accessAllowed ? 'block' : 'none';\n",
              "\n",
              "        async function convertToInteractive(key) {\n",
              "          const element = document.querySelector('#df-724c573f-02ae-4ea9-bfad-3993d8c79eb2');\n",
              "          const dataTable =\n",
              "            await google.colab.kernel.invokeFunction('convertToInteractive',\n",
              "                                                     [key], {});\n",
              "          if (!dataTable) return;\n",
              "\n",
              "          const docLinkHtml = 'Like what you see? Visit the ' +\n",
              "            '<a target=\"_blank\" href=https://colab.research.google.com/notebooks/data_table.ipynb>data table notebook</a>'\n",
              "            + ' to learn more about interactive tables.';\n",
              "          element.innerHTML = '';\n",
              "          dataTable['output_type'] = 'display_data';\n",
              "          await google.colab.output.renderOutput(dataTable, element);\n",
              "          const docLink = document.createElement('div');\n",
              "          docLink.innerHTML = docLinkHtml;\n",
              "          element.appendChild(docLink);\n",
              "        }\n",
              "      </script>\n",
              "    </div>\n",
              "  </div>\n",
              "  "
            ]
          },
          "metadata": {},
          "execution_count": 28
        }
      ]
    },
    {
      "cell_type": "code",
      "source": [
        "len(graph)"
      ],
      "metadata": {
        "colab": {
          "base_uri": "https://localhost:8080/"
        },
        "id": "iEd2j40JqGxq",
        "outputId": "8bbfb9ed-1145-496c-ac69-4380066436f7"
      },
      "execution_count": 29,
      "outputs": [
        {
          "output_type": "execute_result",
          "data": {
            "text/plain": [
              "13441"
            ]
          },
          "metadata": {},
          "execution_count": 29
        }
      ]
    },
    {
      "cell_type": "markdown",
      "source": [
        "#### **Creating final train and test samples**"
      ],
      "metadata": {
        "id": "KVb_DPnH2X3Q"
      }
    },
    {
      "cell_type": "code",
      "source": [
        "def _bytes_feature_image(image):\n",
        "    return tf.train.Feature(\n",
        "        bytes_list=tf.train.BytesList(value=[image]))\n",
        "\n",
        "def create_example(image, label, record_id):\n",
        "  \"\"\"Create tf.Example containing the sample's image, label, and ID.\"\"\"\n",
        "  features = {\n",
        "      'id': _bytes_feature(str(record_id)),\n",
        "      'image': _bytes_feature_image(image.numpy()),\n",
        "      'label': _int64_feature(np.asarray([label])),\n",
        "  }\n",
        "  return tf.train.Example(features=tf.train.Features(feature=features))\n",
        "\n",
        "def create_records(images, labels, record_path, starting_record_id):\n",
        "  record_id = int(starting_record_id)\n",
        "  with tf.io.TFRecordWriter(record_path) as writer:\n",
        "    for image, label in zip(images, labels):\n",
        "      image = tf.io.encode_png(tf.cast(image,tf.uint8))\n",
        "      example = create_example(image, label, record_id)\n",
        "      record_id = record_id + 1\n",
        "      writer.write(example.SerializeToString())\n",
        "  return record_id\n",
        "\n",
        "# Persist TF.Example features (images and labels) for training and test\n",
        "# data in TFRecord format.\n",
        "next_record_id = create_records(X_train, Y_train,\n",
        "                                'Graph/data/train_data.tfr', 0)\n",
        "create_records(X_test,Y_test, 'Graph/data/test_data.tfr',\n",
        "               next_record_id)"
      ],
      "metadata": {
        "id": "clSInhqNqala",
        "colab": {
          "base_uri": "https://localhost:8080/"
        },
        "outputId": "e6a35fff-8875-4050-c9d2-a72f9013f716"
      },
      "execution_count": 30,
      "outputs": [
        {
          "output_type": "execute_result",
          "data": {
            "text/plain": [
              "440"
            ]
          },
          "metadata": {},
          "execution_count": 30
        }
      ]
    },
    {
      "cell_type": "markdown",
      "source": [
        "**TFRecord read function**"
      ],
      "metadata": {
        "id": "aTDmuRVEbY-v"
      }
    },
    {
      "cell_type": "code",
      "source": [
        "def read_record(file_path):\n",
        "    raw_image_dataset = tf.data.TFRecordDataset(file_path)\n",
        "\n",
        "    image_feature_description = {\n",
        "        'id': tf.io.FixedLenFeature([], tf.string),\n",
        "        'image': tf.io.FixedLenFeature([], tf.string),\n",
        "        'label': tf.io.FixedLenFeature([], tf.int64),\n",
        "    }\n",
        "    \n",
        "    def _parse_image_function(example_proto):\n",
        "      return tf.io.parse_single_example(example_proto, image_feature_description)\n",
        "\n",
        "    parsed_image_dataset = raw_image_dataset.map(_parse_image_function)\n",
        "    \n",
        "    for image_features in parsed_image_dataset:\n",
        "      id = image_features['id'].numpy()\n",
        "      image_raw = image_features['image'].numpy()\n",
        "      label = image_features['label'].numpy()\n",
        "\n",
        "    return parsed_image_dataset"
      ],
      "metadata": {
        "id": "2q9l0iaTZPby"
      },
      "execution_count": 31,
      "outputs": []
    },
    {
      "cell_type": "code",
      "source": [
        "read_train_data_tfr = read_record('Graph/data/train_data.tfr')"
      ],
      "metadata": {
        "id": "0fAKfgrpaU5G"
      },
      "execution_count": 32,
      "outputs": []
    },
    {
      "cell_type": "code",
      "source": [
        "for image_features in read_train_data_tfr.take(10):\n",
        "  id = image_features['id'].numpy()\n",
        "  image = tf.io.decode_png(image_features['image'].numpy(),channels=3)\n",
        "  label = image_features['label'].numpy()\n",
        "  print(id)\n",
        "  plot((image,label))\n",
        "  print(label)"
      ],
      "metadata": {
        "colab": {
          "base_uri": "https://localhost:8080/",
          "height": 1000
        },
        "id": "4Sw4xxonbGHr",
        "outputId": "52ea757d-c4c2-41fe-c97f-6a13096cdd1f"
      },
      "execution_count": 33,
      "outputs": [
        {
          "output_type": "stream",
          "name": "stdout",
          "text": [
            "b'0'\n"
          ]
        },
        {
          "output_type": "display_data",
          "data": {
            "text/plain": [
              "<Figure size 432x288 with 1 Axes>"
            ],
            "image/png": "[encoded data removed]"
          },
          "metadata": {
            "needs_background": "light"
          }
        },
        {
          "output_type": "stream",
          "name": "stdout",
          "text": [
            "\n",
            "Label:  0\n",
            "0\n",
            "b'1'\n"
          ]
        },
        {
          "output_type": "display_data",
          "data": {
            "text/plain": [
              "<Figure size 432x288 with 1 Axes>"
            ],
            "image/png": "[encoded data removed]"
          },
          "metadata": {
            "needs_background": "light"
          }
        },
        {
          "output_type": "stream",
          "name": "stdout",
          "text": [
            "\n",
            "Label:  3\n",
            "3\n",
            "b'2'\n"
          ]
        },
        {
          "output_type": "display_data",
          "data": {
            "text/plain": [
              "<Figure size 432x288 with 1 Axes>"
            ],
            "image/png": "[encoded data removed]"
          },
          "metadata": {
            "needs_background": "light"
          }
        },
        {
          "output_type": "stream",
          "name": "stdout",
          "text": [
            "\n",
            "Label:  2\n",
            "2\n",
            "b'3'\n"
          ]
        },
        {
          "output_type": "display_data",
          "data": {
            "text/plain": [
              "<Figure size 432x288 with 1 Axes>"
            ],
            "image/png": "[encoded data removed]"
          },
          "metadata": {
            "needs_background": "light"
          }
        },
        {
          "output_type": "stream",
          "name": "stdout",
          "text": [
            "\n",
            "Label:  3\n",
            "3\n",
            "b'4'\n"
          ]
        },
        {
          "output_type": "display_data",
          "data": {
            "text/plain": [
              "<Figure size 432x288 with 1 Axes>"
            ],
            "image/png": "[encoded data removed]"
          },
          "metadata": {
            "needs_background": "light"
          }
        },
        {
          "output_type": "stream",
          "name": "stdout",
          "text": [
            "\n",
            "Label:  1\n",
            "1\n",
            "b'5'\n"
          ]
        },
        {
          "output_type": "display_data",
          "data": {
            "text/plain": [
              "<Figure size 432x288 with 1 Axes>"
            ],
            "image/png": "[encoded data removed]"
          },
          "metadata": {
            "needs_background": "light"
          }
        },
        {
          "output_type": "stream",
          "name": "stdout",
          "text": [
            "\n",
            "Label:  3\n",
            "3\n",
            "b'6'\n"
          ]
        },
        {
          "output_type": "display_data",
          "data": {
            "text/plain": [
              "<Figure size 432x288 with 1 Axes>"
            ],
            "image/png": "[encoded data removed]"
          },
          "metadata": {
            "needs_background": "light"
          }
        },
        {
          "output_type": "stream",
          "name": "stdout",
          "text": [
            "\n",
            "Label:  1\n",
            "1\n",
            "b'7'\n"
          ]
        },
        {
          "output_type": "display_data",
          "data": {
            "text/plain": [
              "<Figure size 432x288 with 1 Axes>"
            ],
            "image/png": "[encoded data removed]"
          },
          "metadata": {
            "needs_background": "light"
          }
        },
        {
          "output_type": "stream",
          "name": "stdout",
          "text": [
            "\n",
            "Label:  0\n",
            "0\n",
            "b'8'\n"
          ]
        },
        {
          "output_type": "display_data",
          "data": {
            "text/plain": [
              "<Figure size 432x288 with 1 Axes>"
            ],
            "image/png": "[encoded data removed]"
          },
          "metadata": {
            "needs_background": "light"
          }
        },
        {
          "output_type": "stream",
          "name": "stdout",
          "text": [
            "\n",
            "Label:  2\n",
            "2\n",
            "b'9'\n"
          ]
        },
        {
          "output_type": "display_data",
          "data": {
            "text/plain": [
              "<Figure size 432x288 with 1 Axes>"
            ],
            "image/png": "[encoded data removed]"
          },
          "metadata": {
            "needs_background": "light"
          }
        },
        {
          "output_type": "stream",
          "name": "stdout",
          "text": [
            "\n",
            "Label:  3\n",
            "3\n"
          ]
        }
      ]
    },
    {
      "cell_type": "markdown",
      "source": [
        "#### **Creating augmented training set using nsl.tools.pack_nbrs**"
      ],
      "metadata": {
        "id": "tu75WsuPbgFm"
      }
    },
    {
      "cell_type": "code",
      "source": [
        "nsl.tools.pack_nbrs(\n",
        "    'Graph/data/train_data.tfr',\n",
        "    '',\n",
        "    'Graph/graph.tsv',\n",
        "    'Graph/data/augmented_train_data.tfr',\n",
        "    add_undirected_edges=True,\n",
        "    max_nbrs=3)"
      ],
      "metadata": {
        "id": "nyyO1Yy6USzo"
      },
      "execution_count": 34,
      "outputs": []
    },
    {
      "cell_type": "markdown",
      "source": [
        "**Reading augmented training dataset and testing dataset**"
      ],
      "metadata": {
        "id": "WnQ_twlCgph2"
      }
    },
    {
      "cell_type": "code",
      "source": [
        "augmented_dataset = read_record('Graph/data/augmented_train_data.tfr')"
      ],
      "metadata": {
        "id": "xOFUqwyRWX7c"
      },
      "execution_count": 35,
      "outputs": []
    },
    {
      "cell_type": "code",
      "source": [
        "for image_features in augmented_dataset.take(1):\n",
        "  id = image_features['id'].numpy()\n",
        "  image = image_features['image'].numpy()\n",
        "  label = image_features['label'].numpy()\n",
        "  print(id)\n",
        "  plot((tf.io.decode_png(image,channels=3),label))\n",
        "  print(label)"
      ],
      "metadata": {
        "colab": {
          "base_uri": "https://localhost:8080/",
          "height": 338
        },
        "id": "zxlaUSprb3Lk",
        "outputId": "07a2bdae-f6b0-43f5-81df-80ed092ba670"
      },
      "execution_count": 36,
      "outputs": [
        {
          "output_type": "stream",
          "name": "stdout",
          "text": [
            "b'0'\n"
          ]
        },
        {
          "output_type": "display_data",
          "data": {
            "text/plain": [
              "<Figure size 432x288 with 1 Axes>"
            ],
            "image/png": "[encoded data removed]"
          },
          "metadata": {
            "needs_background": "light"
          }
        },
        {
          "output_type": "stream",
          "name": "stdout",
          "text": [
            "\n",
            "Label:  0\n",
            "0\n"
          ]
        }
      ]
    },
    {
      "cell_type": "code",
      "source": [
        "testing_dataset = read_record('Graph/data/test_data.tfr')"
      ],
      "metadata": {
        "id": "fu9Oz3RrcBIu"
      },
      "execution_count": 37,
      "outputs": []
    },
    {
      "cell_type": "code",
      "source": [
        "for image_features in testing_dataset.take(1):\n",
        "  id = image_features['id'].numpy()\n",
        "  image = image_features['image'].numpy()\n",
        "  label = image_features['label'].numpy()\n",
        "  print(id)\n",
        "  print(image)\n",
        "  print(label)"
      ],
      "metadata": {
        "colab": {
          "base_uri": "https://localhost:8080/"
        },
        "id": "4BZXIZS_ggwk",
        "outputId": "082238c1-e566-4268-fa8e-2bbc99d4d783"
      },
      "execution_count": 38,
      "outputs": [
        {
          "output_type": "stream",
          "name": "stdout",
          "text": [
            "b'330'\n",
            "b'\\x89PNG\\r\\n\\x1a\\n\\x00\\x00\\x00\\rIHDR\\x00\\x00\\x01+\\x00\\x00\\x01+\\x08\\x02\\x00\\x00\\x00\\t\\xc62\\xe3\\x00\\x00\\nlIDATx\\x9c\\xed\\xdd\\xcbK\\x94\\xed\\x03\\xc6\\xf1\\x19\\x8f\\x99\\xfa:Y\\xc9Dt\\xa2\\x82(W\\x11\\x9d\\xb5\\x92D7\\xda\\x89\\x8c\\x88\\x84\\x82\\x8aJ\\x8a\\xc26\\xd5\\xaee\\x07\\xac\\xc0r\\x91\\xd0\\x81\"\\x08\\xcd\\x84\\xc2(:\\xd0&\\xcdMPfa\\x16\\x1a!j\\xe2b\\xb4\\xe80\\xbf\\xc5+\\xbf\\x97\\xc2Lm\\xf4\\xba\\xef\\xfb\\xf9~\\xfe\\x81\\xae\\x9c\\xfb\\xcb\\xf3L=\\xe3\\xf8\\xc3\\xe1\\xb0\\x0f\\x80H\\x94z\\x00\\xe0i\\x14\\x08(Q \\xa0D\\x81\\x80\\x12\\x05\\x02J\\x14\\x08(Q \\xa0D\\x81\\x80\\x12\\x05\\x02J\\x14\\x08(Q \\xa0D\\x81\\x80\\x12\\x05\\x02J\\x14\\x08(Q \\xa0D\\x81\\x80\\x12\\x05\\x02J\\x14\\x08(Q \\xa0D\\x81\\x80\\x12\\x05\\x02J\\x14\\x08(Q \\xa0D\\x81\\x80\\x12\\x05\\x02J\\x14\\x08(Q \\xa0D\\x81\\x80\\x12\\x05\\x02J\\x14\\x08(Q \\xa0D\\x81\\x80\\x12\\x05\\x02J\\x14\\x08(Q \\xa0D\\x81\\x80\\x12\\x05\\x02J\\x14\\x08(Q \\xa0D\\x81\\x80\\x12\\x05\\x02J\\x14\\x08(Q \\xa0D\\x81\\x80\\x12\\x05\\x02J\\x14\\x08(Q \\xa0D\\x81\\x80\\x12\\x05\\x02J\\x14\\x08(Q \\xa0D\\x81\\x80\\x12\\x05\\x02J\\x14\\x08(Q \\xa0D\\x81\\x80\\x12\\x05\\x02J\\x14\\x08(Q \\xa0D\\x81\\x80\\x12\\x05\\x02J\\x14\\x08(Q \\xa0D\\x81\\x80\\x12\\x05\\x02J\\x14\\x08(Q \\xa0D\\x81\\x80\\x12\\x05\\x02J\\x14\\x08(Q \\xa0D\\x81\\x80\\x12\\x05\\x02J\\x14\\x08(Q \\xa0D\\x81\\x80\\x12\\x05\\x02J\\x14\\x08(Q \\xa0D\\x81\\x80\\x12\\x05\\x02J\\x14\\x08(Q \\xa0D\\x81\\x80\\x12\\x05\\x02J\\x14\\x08(Q \\xa0D\\x81\\x80\\x12\\x05\\x02J\\x14\\x08(Q \\xa0D\\x81\\x80\\x12\\x05\\x02J\\x14\\x08(Q \\xa0D\\x81\\x80\\x12\\x05\\x02J\\x14\\x08(Q \\xa0D\\x81\\x80\\x12\\x05\\x02J\\x14\\x08(Q \\xa0D\\x81\\x80\\x12\\x05\\x02J\\x14\\x08(Q \\xa0D\\x81\\x80\\x12\\x05\\x02J\\x14\\x08(Q \\xa0D\\x81\\x80\\x12\\x05\\x02J\\x14\\x08(Q \\xa0D\\x81\\x80\\x12\\x05\\x02J1\\xea\\x01\\x168x\\xf0\\xa0z\\x02\"\\xef\\xd4\\xa9S\\xea\\t>\\x9f\\xcf\\xe7\\x0f\\x87\\xc3\\xea\\r\\xe6\\n\\x87\\xc3\\xb3g\\xcfnjjR\\x0fA\\xe4\\x19r\\xf2\\xb9\\x06\\x0ed\\xfc\\xf8\\xf1]]]\\xea\\x15p\\x19\\xef\\x03\\x7fk\\xd1\\xa2E\\xe4\\x87\\x91F\\x81\\xfd[\\xbatimm\\xadz\\x05\\xdc\\xc7]h?f\\xce\\x9c\\xf9\\xf6\\xed[\\xf5\\nx\\x02\\xd7\\xc0_\\xe5\\xe7\\xe7\\x93\\x1fF\\r\\x05\\xfed\\xe3\\xc6\\x8d\\xd5\\xd5\\xd5\\xea\\x15\\xf0\\x10\\xeeB\\xff\\x93\\x9b\\x9b[SS\\xa3^\\x01o\\xe1\\x1a\\xd8g\\xcf\\x9e=\\xe4\\x87\\xd1G\\x81>\\x9f\\xcfW\\\\\\\\|\\xee\\xdc9\\xf5\\nx\\x11\\x05\\xfa\\x0e\\x1f>|\\xf2\\xe4I\\xf5\\nx\\x94\\xd7\\x9fJ;q\\xe2\\xc4\\xa1C\\x87\\xd4+ `\\xc8\\xc9\\xf7t\\x81\\xa5\\xa5\\xa5{\\xf7\\xeeU\\xaf\\x80\\x86!\\'\\xdf\\xbb\\x05VUU\\xad]\\xbbV\\xbd\\x022\\x86\\x9c|\\x8f\\xbe\\x0f\\xbcy\\xf3&\\xf9\\xc1\\x04^\\xbc\\x06VWW\\xe7\\xe7\\xe7\\xabW@\\xcc\\x90\\x93\\xef\\xb9\\x02_\\xbcx\\x91\\x9e\\x9e\\xae^\\x01=CN\\xbe\\xb7\\xeeB\\xeb\\xeb\\xeb\\xc9\\x0fF\\xf1P\\x81\\xb5\\xb5\\xb5\\x0b\\x16,P\\xaf\\x00~\\xe2\\x95\\xbb\\xd0\\xf6\\xf6\\xf6\\xb4\\xb44\\xf5\\n\\x18\\xc4\\x90\\x93\\xef\\x89k`KKK0\\x18T\\xaf\\x00\\xfa\\xe1~\\x81MMMS\\xa7N\\xfd\\xf1\\xe3\\x87z\\x08\\xd0\\x0f\\xc7\\xefBC\\xa1PRR\\x92z\\x05Ld\\xc8\\xc9w\\xf9\\x1a\\xd8\\xdd\\xdd\\x1d\\x08\\x04\\xd4+\\x80\\x818[`{{{ \\x10\\xf8\\xf6\\xed\\x9bz\\x080\\x107\\xefB?\\x7f\\xfe<v\\xecX\\'\\xffj\\x88\\x14C\\x8e\\x87\\x83\\xd7\\xc0/_\\xbe\\xa4\\xa6\\xa6\\x1a\\xf2\\xf3\\x05\\x06\\xe6Z\\x81\\xa1P\\xe8\\x9f\\x7f\\xfe\\xe9\\xed\\xedU\\x0f\\x01\\x06\\xc5\\xa9\\xbb\\xd0\\xaf_\\xbf\\x06\\x02\\x81\\x9e\\x9e\\x1e\\xf5\\x10X\\xc0\\x90\\x93\\xef\\xce5\\xf0\\xfb\\xf7\\xef\\x93&M\"?\\xd8\\xc5\\x91\\x02\\xbf}\\xfb\\x16\\x0c\\x06;;;\\xd5C\\x80\\xa1q\\xa1\\xc0\\x1f?~\\xcc\\x981\\xa3\\xa3\\xa3C=\\x04\\x182\\xeb\\x0b\\x0c\\x87\\xc3\\xb3f\\xcdjmmU\\x0f\\x01\\x86\\xc3\\xee\\x02\\xc3\\xe1\\xf0\\xdc\\xb9s\\x9b\\x9b\\x9b\\xd5C\\x80a\\xb2\\xbb\\xc0\\xc5\\x8b\\x17\\xbfz\\xf5J\\xbd\\x02\\x18>\\x8b\\xbf7b\\xe1\\xc2\\x85uuu\\xea\\x15\\xc0_\\xb1\\xf5\\x1a\\x98\\x95\\x95E~p\\x80\\x95\\x05\\x16\\x14\\x14<x\\xf0@\\xbd\\x02\\x88\\x00\\xfb\\xeeB\\xd7\\xacYs\\xeb\\xd6-\\xf5\\n 2,\\xbb\\x06\\x16\\x16\\x16\\x92\\x1f\\\\bS\\x81\\x87\\x0e\\x1d\\xba|\\xf9\\xb2z\\x05\\x10QaK\\x14\\x15\\x15\\xa9\\x7fTp\\x8a\\xfaD\\xf71e\\xc7\\xc0\\x8e\\x1c9\\xa2~\\xbd\\xe0\\x1a\\xf5\\xa1\\xeec\\xca\\x8e\\x01\\x9c9sF\\xfdb\\xc1A\\xeas\\xdd\\xc7\\x94\\x1d\\xbfSRR\\xa2~\\xa5\\xe0&\\xf5\\xd1\\xeec\\xca\\x8e~\\x95\\x97\\x97\\xab_&8K}\\xba\\xfb\\x98\\xfb\\x19\\xf9\\xca\\xca\\xca\\xf5\\xeb\\xd7\\xabW\\xc0Y\\x86\\x9c|C\\x0b\\xbc{\\xf7nNN\\x8ez\\x05\\\\f\\xc8\\xc97\\xb1\\xc0\\'O\\x9eddd\\xa8W\\xc0q\\x86\\x9c|\\xe3\\n|\\xfa\\xf4\\xe9\\xe2\\xc5\\x8b\\xd5+\\xe0>CN\\xbeY\\x05666\\xce\\x993G\\xbd\\x02\\x9e`\\xc8\\xc97\\xa8\\xc0\\x96\\x96\\x96i\\xd3\\xa6\\x99\\xb3\\x07n3\\xe4\\xa4\\x99\\xf2\\\\hSS\\x13\\xf9\\xc1\\x83\\x8c\\xb8\\x06vttL\\x9c8Q\\xbd\\x02\\xdeb\\xc2\\xc9\\xf7\\x99P`OOO \\x10\\xf8\\xfa\\xf5\\xabv\\x06\\xbcF~\\xf2\\xff%\\xbe\\x0b\\xed\\xe8\\xe8HII!?x\\x96\\xf2\\x1a\\xd8\\xdb\\xdb;v\\xecX\\xd5\\x9f\\x0e\\x8f\\xf3\\xfa50\\x1c\\x0e\\xf3\\xde\\x0f\\xd0\\x14\\x18\\n\\x85\\x12\\x13\\x13C\\xa1\\x90\\xe4O\\x07\\xcc\\xa1)\\xf0\\xcd\\x9b7|\\xc5\\x1f\\xe0\\x93\\xffK\\x0c\\xe0q\\x14\\x08(Q \\xa0D\\x81\\x80\\x12\\x05\\x02J\\x14\\x08(Q \\xa0D\\x81\\x1e\\xc2Wn\\x18\\x88\\x02\\xbd\"+++//O\\xbd\\x02\\xbf\\xa2@O\\x988q\\xe2\\xbd{\\xf7\\xd4+\\xd0\\x0f\\n\\xf4\\x84\\xd7\\xaf_\\xfb\\xfd~\\xf5\\n\\xf4\\x83\\x02\\xddWUU\\x15\\x08\\x04\\xd4+\\xd0?\\nt\\\\NNN~~\\xbez\\x05~\\x8b\\x02]\\x96\\x96\\x96v\\xfb\\xf6m\\xf5\\n\\x0c\\x84\\x02]\\xf6\\xee\\xdd\\xbb\\xa8(^b\\xa3\\xf1\\xf28\\xab\\xa2\\xa2\"!!A\\xbd\\x02\\x7f@\\x81nZ\\xb3f\\xcd\\xbau\\xeb\\xd4+\\xf0g\\x14\\xe8\\xa0\\xd4\\xd4\\xd4\\x8a\\x8a\\n\\xf5\\n\\x0c\\n\\x05:\\xe8\\xe3\\xc7\\x8f\\xbc\\xfd\\xb3\\x05\\xaf\\x93k\\xae_\\xbf\\x1e\\x17\\x17\\xa7^\\x81\\xc1\\xa2@\\xa7dgg\\x17\\x14\\x14\\xa8W`\\x08(\\xd0\\x1d)))555\\xea\\x15\\x18\\x1a\\ntGss3\\x0f\\x7fZ\\x87\\x02\\x1dq\\xf5\\xea\\xd5q\\xe3\\xc6\\xa9W`\\xc8(\\xd0\\x05+W\\xae\\xdc\\xbcy\\xb3z\\x05\\x86\\x83\\x02\\xad\\x17\\x08\\x04\\xf8\\xec\\x9f\\xbd(\\xd0z\\xad\\xad\\xad\\xd1\\xd1\\xd1\\xea\\x15\\x18&\\n\\xb4\\xdb\\x95+W\\x12\\x13\\x13\\xd5+0|\\x14h\\xb1\\xbc\\xbc\\xbc-[\\xb6\\xa8W\\xe0\\xafP\\xa0\\xad\\x92\\x93\\x93+++\\xd5+\\xf0\\xb7b\\xd4\\x030L\\xdd\\xdd\\xdd\\xfc\\xef\\x9f\\x03\\xb8\\x06Z\\xe9\\xd2\\xa5K\\xe4\\xe7\\x06\\n\\xb4Onn\\xee\\xd6\\xad[\\xd5+\\x10\\x19\\x14h\\x99\\xc4\\xc4D~\\xf5\\x8bK(\\xd02\\x1f>|\\xe0\\xfe\\xd3%\\x14h\\x93\\xf2\\xf2\\xf2\\x94\\x94\\x14\\xf5\\nD\\x12\\x05Z#33s\\xdb\\xb6m\\xea\\x15\\x880\\n\\xb4CBB\\xc2\\xfd\\xfb\\xf7\\xd5+\\x10y\\x14h\\x87\\xb6\\xb6\\xb6\\x98\\x18\\xfe\\xf3\\xd6A\\x14h\\x81\\xb2\\xb2\\xb2\\xe4\\xe4d\\xf5\\n\\x8c\\x08\\n4]nn\\xee\\xce\\x9d;\\xd5+0R(\\xd0h\\xf1\\xf1\\xf1\\xd5\\xd5\\xd5\\xea\\x15\\x18A\\xbc\\xb50\\x97\\xdf\\xef\\x0f\\x85B|\\xf6\\xcfm\\\\\\x03\\xcdUVVF~\\xce\\xa3@C\\xe5\\xe4\\xe4\\xec\\xd8\\xb1C\\xbd\\x02#\\x8e\\x02M\\x14\\x17\\x17w\\xe7\\xce\\x1d\\xf5\\n\\x8c\\x06\\n4Qgg\\'\\x0f\\x7fz\\x04\\x05\\x1a\\xe7\\xfc\\xf9\\xf3III\\xea\\x15\\x18%\\x14h\\x96\\xcc\\xcc\\xcc]\\xbbv\\xa9W`\\xf4P\\xa0A\\xfc~?\\x0f\\x7fz\\r\\x05\\x1a\\xa4\\xab\\xab\\x8b\\x87?\\xbd\\x86\\x02Mq\\xfa\\xf4i>\\xfb\\xe7A\\x14h\\x84U\\xabV\\xed\\xdb\\xb7O\\xbd\\x02\\x02\\x14h\\x04\\xbe\\xf7\\xcf\\xb3(P\\xcc\\xef\\xf7\\x7f\\xfe\\xfc966V=\\x04\\x1a\\x14(VRR\\x12\\x1f\\x1f\\xaf^\\x01\\x19\\nTZ\\xbdz5o\\xff<\\x8e\\x02e\\xa2\\xa3\\xa3y\\xfb\\x07\\n\\x94\\xe9\\xee\\xee\\x8e\\x8a\\xe2\\xe7\\xefu\\x9c\\x00\\x8d\\xb3g\\xcf\\xf2\\xbd\\x7f\\xf0Q\\xa0DFFFQQ\\x91z\\x05\\x8c@\\x81\\x02\\x8f\\x1e=RO\\x80)(p\\xb4\\xb5\\xb5\\xb5\\xf1\\xd9?\\xfc\\x1f\\x05\\x8e\\xaa\\xe3\\xc7\\x8f\\xa7\\xa5\\xa5\\xa9W\\xc0 \\x148z\\x96,YR\\\\\\\\\\xac^\\x01\\xb3P\\xe0\\xe8y\\xf8\\xf0\\xa1z\\x02\\x8cC\\x81\\xa3\\xa4\\xbd\\xbd=..N\\xbd\\x02\\xc6\\xa1\\xc0\\xd1\\xb0l\\xd9\\xb2\\t\\x13&\\xa8W\\xc0D\\x14\\x08/*--UO\\xe8C\\x81\\xf0\\x9c`0\\xb8{\\xf7n\\xf5\\x8a>\\x14\\x08\\xcf\\xf9\\xf8\\xf1\\xa3z\\xc2\\x7f(\\x10\\xdeRVV\\xa6\\x9e\\xf0\\x13\\n\\x84\\x87\\xa4\\xa7\\xa7\\x9b\\xf6e\\x8c\\x14\\x08\\xaf\\xf0\\xfb\\xfd\\xb5\\xb5\\xb5\\xea\\x15\\xbf\\xa2@x\\xc5\\xa3G\\x8f\\x12\\x12\\x12\\xd4+~E\\x81\\xf0\\x84\\x15+Vddd\\xa8W\\xf4\\x83\\x02\\xe1\\xbe\\xa8\\xa8(c\\x1f\\t\\xa4@\\xb8\\xef\\xf1\\xe3\\xc7\\xea\\t\\xbfE\\x81p\\xdc\\xca\\x95+\\x97-[\\xa6^\\xf1[\\x14\\x08\\x97\\x8d\\x193\\xe6\\xc1\\x83\\x07\\xea\\x15\\x03\\xa1@\\xb8\\xec\\xd9\\xb3g\\xea\\t\\x7f@\\x81p\\xd6\\xce\\x9d;\\xe7\\xcd\\x9b\\xa7^\\xf1\\x07\\x14\\x087\\xc5\\xc4\\xc4\\x98\\xf6\\x00Z\\xbf(\\x10n\\xfa\\xf4\\xe9\\x93z\\xc2\\xa0P \\x1c\\xb4\\x7f\\xff\\xfe\\xe4\\xe4d\\xf5\\x8aA\\xa1@\\xb8&\\x10\\x08\\x94\\x94\\x94\\xa8W\\x0c\\x16\\x05\\xc25\\r\\r\\r\\xea\\tC@\\x81p\\xca\\xc9\\x93\\'\\x83\\xc1\\xa0z\\xc5\\x10P \\xdc1c\\xc6\\x8c\\x03\\x07\\x0e\\xa8W\\x0c\\r\\x05\\xc2\\x1d\\r\\r\\r\\xd6}#\\x00\\x05\\xc2\\x11\\x17.\\\\\\xb0\\xf1\\xfb\\xc0)\\x10.\\x984i\\xd2\\xf6\\xed\\xdb\\xd5+\\x86\\x83\\x02\\xe1\\x82\\xf7\\xef\\xdf\\xab\\'\\x0c\\x13\\x05\\xc2z7n\\xdc\\x88\\x8d\\x8dU\\xaf\\x18&\\n\\x84\\xdd\\x96/_\\xbea\\xc3\\x06\\xf5\\x8a\\xe1\\xa3@\\xd8\\xcd\\xd8_?1H\\x14\\x08\\x8b\\xd5\\xd7\\xd7GGG\\xabW\\xfc\\x15\\n\\x84\\xad\\xb2\\xb3\\xb3\\xe7\\xcf\\x9f\\xaf^\\xf1\\xb7(\\x10\\xb6\\xaa\\xa9\\xa9QO\\x88\\x00\\n\\x84\\x95\\xea\\xea\\xea\\xac{\\xfc\\xa5_\\x14\\x08\\xfbl\\xda\\xb4i\\xc1\\x82\\x05\\xea\\x15\\x91A\\x81\\xb0LRR\\xd2\\xb5k\\xd7\\xd4+\"\\x86\\x02a\\x99\\x97/_\\xbaq\\xff\\xf9/\\n\\x84M\\x8a\\x8b\\x8b\\xa7L\\x99\\xa2^\\x11I\\x14\\x08kDEE\\x1d?~\\\\\\xbd\"\\xc2(\\x10\\xd6hkkSO\\x88<\\n\\x84\\x1d\\x8e\\x1e=:a\\xc2\\x04\\xf5\\x8a\\xc8\\xa3@X`\\xf2\\xe4\\xc9\\xc7\\x8e\\x1dS\\xaf\\x18\\x11\\x14\\x08\\x0b<\\x7f\\xfe\\\\=a\\xa4P Lw\\xf1\\xe2\\xc5\\xd4\\xd4T\\xf5\\x8a\\x91B\\x810\\xda\\xf4\\xe9\\xd3\\x0b\\x0b\\x0b\\xd5+F\\x10\\x05\\xc2h\\x8d\\x8d\\x8d\\xea\\t#\\xcb\\x1f\\x0e\\x87\\xd5\\x1b\\x00\\xef\\xe2\\x1a\\x08(Q \\xa0D\\x81\\x80\\x12\\x05\\x02J\\x14\\x08(Q \\xa0D\\x81\\x80\\xd2\\xff\\x00\\x1d\\xaf\\n\\xc5\\xbf\\xf5b\\xe3\\x00\\x00\\x00\\x00IEND\\xaeB`\\x82'\n",
            "0\n"
          ]
        }
      ]
    },
    {
      "cell_type": "markdown",
      "source": [
        "### **Initializing the hyperparameters**"
      ],
      "metadata": {
        "id": "PRmUX6OFg9kM"
      }
    },
    {
      "cell_type": "code",
      "source": [
        "class HParams(object):\n",
        "  \"\"\"Hyperparameters used for training.\"\"\"\n",
        "  def __init__(self):\n",
        "    ### dataset parameters\n",
        "    self.num_classes = 4\n",
        "    self.IMG_DIMENSION = [299,299,3]\n",
        "    ### neural graph learning parameters\n",
        "    self.distance_type = nsl.configs.DistanceType.L2\n",
        "    self.graph_regularization_multiplier = 0.2\n",
        "    self.num_neighbors = 3\n",
        "    ### model architecture\n",
        "    self.LOSS = 'sparse_categorical_crossentropy'\n",
        "    self.OPT = 'adam'\n",
        "    self.METRICS = ['accuracy']\n",
        "    ### training parameters\n",
        "    self.train_epochs = 15\n",
        "    self.batch_size = 40\n",
        "    ### eval parameters\n",
        "    self.eval_steps = None  # All instances in the test set are evaluated.\n",
        "\n",
        "hp = HParams()"
      ],
      "metadata": {
        "id": "FRweao0khCGm"
      },
      "execution_count": 39,
      "outputs": []
    },
    {
      "cell_type": "markdown",
      "source": [
        "### **Preparing the dataset**"
      ],
      "metadata": {
        "id": "ki0Q1YYCgv9e"
      }
    },
    {
      "cell_type": "code",
      "source": [
        "NBR_FEATURE_PREFIX = 'NL_nbr_'\n",
        "NBR_WEIGHT_SUFFIX = '_weight'\n",
        "\n",
        "def get_default_image():\n",
        "  image = tf.ones((299, 299, 3), dtype=tf.uint8)*255\n",
        "  return tf.io.encode_png(image, compression=-1,name=None)\n",
        "\n",
        "DEFAULT_IMG = get_default_image()\n",
        "\n",
        "def make_dataset(file_path,train = False):\n",
        "\n",
        "  def parse_example(example_proto):\n",
        "    feature_spec = {\n",
        "        'image': tf.io.FixedLenFeature([], tf.string),\n",
        "        'label': tf.io.FixedLenFeature([], tf.int64),\n",
        "    }\n",
        "    if train:\n",
        "      for i in range(hp.num_neighbors):\n",
        "        nbr_feature_key = '{}{}_{}'.format(NBR_FEATURE_PREFIX, i, 'image')\n",
        "        nbr_weight_key = '{}{}{}'.format(NBR_FEATURE_PREFIX, i,\n",
        "                                         NBR_WEIGHT_SUFFIX)\n",
        "        feature_spec[nbr_feature_key] = tf.io.FixedLenFeature(\n",
        "            [],tf.string, default_value=DEFAULT_IMG)\n",
        "\n",
        "        feature_spec[nbr_weight_key] = tf.io.FixedLenFeature(\n",
        "            [1], tf.float32, default_value=tf.constant([0.0]))\n",
        "\n",
        "    features = tf.io.parse_single_example(example_proto, feature_spec)\n",
        "\n",
        "    features['image'] = tf.io.decode_png(features['image'], channels=3)\n",
        "    if train:\n",
        "      for i in range(hp.num_neighbors):\n",
        "        nbr_feature_key = '{}{}_{}'.format(NBR_FEATURE_PREFIX, i, 'image')\n",
        "        features[nbr_feature_key] = tf.io.decode_png(features[nbr_feature_key],channels=3)\n",
        "\n",
        "    labels = features.pop('label')\n",
        "    return features, labels\n",
        "\n",
        "  dataset = tf.data.TFRecordDataset([file_path])\n",
        "  if train:\n",
        "    dataset = dataset.shuffle(10000)\n",
        "  dataset = dataset.map(parse_example)\n",
        "  dataset = dataset.batch(hp.batch_size)\n",
        "  return dataset"
      ],
      "metadata": {
        "id": "qXlOyCP2gie7"
      },
      "execution_count": 40,
      "outputs": []
    },
    {
      "cell_type": "code",
      "source": [
        "train_dataset = make_dataset('Graph/data/augmented_train_data.tfr', True)\n",
        "test_dataset = make_dataset('Graph/data/test_data.tfr')"
      ],
      "metadata": {
        "id": "hHziTiaziFVz"
      },
      "execution_count": 41,
      "outputs": []
    },
    {
      "cell_type": "code",
      "source": [
        "train_dataset"
      ],
      "metadata": {
        "colab": {
          "base_uri": "https://localhost:8080/"
        },
        "id": "PMtDnTR6uieE",
        "outputId": "1f5dcb26-fe1f-4ddd-f8e6-bc3f3ef0a055"
      },
      "execution_count": 42,
      "outputs": [
        {
          "output_type": "execute_result",
          "data": {
            "text/plain": [
              "<BatchDataset element_spec=({'NL_nbr_0_image': TensorSpec(shape=(None, None, None, 3), dtype=tf.uint8, name=None), 'NL_nbr_0_weight': TensorSpec(shape=(None, 1), dtype=tf.float32, name=None), 'NL_nbr_1_image': TensorSpec(shape=(None, None, None, 3), dtype=tf.uint8, name=None), 'NL_nbr_1_weight': TensorSpec(shape=(None, 1), dtype=tf.float32, name=None), 'NL_nbr_2_image': TensorSpec(shape=(None, None, None, 3), dtype=tf.uint8, name=None), 'NL_nbr_2_weight': TensorSpec(shape=(None, 1), dtype=tf.float32, name=None), 'image': TensorSpec(shape=(None, None, None, 3), dtype=tf.uint8, name=None)}, TensorSpec(shape=(None,), dtype=tf.int64, name=None))>"
            ]
          },
          "metadata": {},
          "execution_count": 42
        }
      ]
    },
    {
      "cell_type": "markdown",
      "source": [
        "### **Keras leNet model with graph regularization**"
      ],
      "metadata": {
        "id": "QvNyELHnHN5T"
      }
    },
    {
      "cell_type": "code",
      "source": [
        "def Model():  \n",
        "  model = tf.keras.models.Sequential([\n",
        "                                    tf.keras.layers.InputLayer(input_shape=(299, 299, 3),name='image'),\n",
        "                                    tf.keras.layers.Conv2D(filters=8, kernel_size = 3, input_shape = [299,299,3], activation='relu',padding='same'),\n",
        "                                    tf.keras.layers.MaxPooling2D(padding='same'),\n",
        "                                    tf.keras.layers.Conv2D(filters = 16, kernel_size = 3, activation = 'relu',padding='same'),\n",
        "                                    tf.keras.layers.MaxPooling2D(padding='same'),\n",
        "                                      tf.keras.layers.Conv2D(filters = 32, kernel_size = 3, activation = 'relu',padding='same'),\n",
        "                                    tf.keras.layers.MaxPooling2D(padding='same'),\n",
        "                                    tf.keras.layers.Flatten(),\n",
        "                                    tf.keras.layers.Dense(units=64, activation = 'relu'),\n",
        "                                    tf.keras.layers.Dense(units = 4, activation='softmax')\n",
        "  ])\n",
        "  return model\n",
        "\n",
        "\n",
        "base_model = Model()\n",
        "base_model.summary()"
      ],
      "metadata": {
        "id": "zgqSeoVrpaaD",
        "colab": {
          "base_uri": "https://localhost:8080/"
        },
        "outputId": "0310d73d-7bb2-4ee3-a89b-1562da28896b"
      },
      "execution_count": 57,
      "outputs": [
        {
          "output_type": "stream",
          "name": "stdout",
          "text": [
            "Model: \"sequential_3\"\n",
            "_________________________________________________________________\n",
            " Layer (type)                Output Shape              Param #   \n",
            "=================================================================\n",
            " conv2d_8 (Conv2D)           (None, 299, 299, 8)       224       \n",
            "                                                                 \n",
            " max_pooling2d_9 (MaxPooling  (None, 150, 150, 8)      0         \n",
            " 2D)                                                             \n",
            "                                                                 \n",
            " conv2d_9 (Conv2D)           (None, 150, 150, 16)      1168      \n",
            "                                                                 \n",
            " max_pooling2d_10 (MaxPoolin  (None, 75, 75, 16)       0         \n",
            " g2D)                                                            \n",
            "                                                                 \n",
            " conv2d_10 (Conv2D)          (None, 75, 75, 32)        4640      \n",
            "                                                                 \n",
            " max_pooling2d_11 (MaxPoolin  (None, 38, 38, 32)       0         \n",
            " g2D)                                                            \n",
            "                                                                 \n",
            " flatten_3 (Flatten)         (None, 46208)             0         \n",
            "                                                                 \n",
            " dense_6 (Dense)             (None, 64)                2957376   \n",
            "                                                                 \n",
            " dense_7 (Dense)             (None, 4)                 260       \n",
            "                                                                 \n",
            "=================================================================\n",
            "Total params: 2,963,668\n",
            "Trainable params: 2,963,668\n",
            "Non-trainable params: 0\n",
            "_________________________________________________________________\n"
          ]
        }
      ]
    },
    {
      "cell_type": "code",
      "source": [
        "gnn_config = nsl.configs.make_graph_reg_config(\n",
        "  max_neighbors=hp.num_neighbors,\n",
        "  multiplier=hp.graph_regularization_multiplier,\n",
        "  distance_type=hp.distance_type,\n",
        "  sum_over_axis=-1)\n",
        "gnn_model = nsl.keras.GraphRegularization(base_model,gnn_config)"
      ],
      "metadata": {
        "id": "kuYbXeGeHXcp"
      },
      "execution_count": 58,
      "outputs": []
    },
    {
      "cell_type": "code",
      "source": [
        "gnn_model.compile(\n",
        "    optimizer=hp.OPT,\n",
        "    loss=hp.LOSS,\n",
        "    metrics=hp.METRICS)"
      ],
      "metadata": {
        "id": "l2DNLJUjHq-R"
      },
      "execution_count": 59,
      "outputs": []
    },
    {
      "cell_type": "code",
      "source": [
        "callback = tf.keras.callbacks.EarlyStopping(monitor='val_accuracy', patience=3)"
      ],
      "metadata": {
        "id": "S9oF03-vwf8V"
      },
      "execution_count": 60,
      "outputs": []
    },
    {
      "cell_type": "code",
      "source": [
        "history = gnn_model.fit(\n",
        "  train_dataset,\n",
        "  validation_data=test_dataset,\n",
        "  epochs=hp.train_epochs,\n",
        "  callbacks=[callback])"
      ],
      "metadata": {
        "colab": {
          "base_uri": "https://localhost:8080/"
        },
        "id": "4Z7s4bv7Hz2i",
        "outputId": "e1c050db-85be-41ad-f922-1e3014c772ee"
      },
      "execution_count": 61,
      "outputs": [
        {
          "output_type": "stream",
          "name": "stdout",
          "text": [
            "Epoch 1/15\n"
          ]
        },
        {
          "output_type": "stream",
          "name": "stderr",
          "text": [
            "/usr/local/lib/python3.7/dist-packages/tensorflow/python/framework/indexed_slices.py:446: UserWarning: Converting sparse IndexedSlices(IndexedSlices(indices=Tensor(\"gradient_tape/GraphRegularization/graph_loss/Reshape_1:0\", shape=(None,), dtype=int32), values=Tensor(\"gradient_tape/GraphRegularization/graph_loss/Reshape:0\", shape=(None, 4), dtype=float32), dense_shape=Tensor(\"gradient_tape/GraphRegularization/graph_loss/Cast:0\", shape=(2,), dtype=int32))) to a dense Tensor of unknown shape. This may consume a large amount of memory.\n",
            "  \"shape. This may consume a large amount of memory.\" % value)\n"
          ]
        },
        {
          "output_type": "stream",
          "name": "stdout",
          "text": [
            "9/9 [==============================] - 59s 6s/step - loss: 761.3564 - accuracy: 0.2697 - scaled_graph_loss: 0.0192 - val_loss: 164.7923 - val_accuracy: 0.2636\n",
            "Epoch 2/15\n",
            "9/9 [==============================] - 59s 6s/step - loss: 60.1337 - accuracy: 0.5030 - scaled_graph_loss: 0.0385 - val_loss: 13.9254 - val_accuracy: 0.6455\n",
            "Epoch 3/15\n",
            "9/9 [==============================] - 59s 6s/step - loss: 5.0078 - accuracy: 0.8242 - scaled_graph_loss: 0.0485 - val_loss: 4.3507 - val_accuracy: 0.7909\n",
            "Epoch 4/15\n",
            "9/9 [==============================] - 57s 6s/step - loss: 2.3059 - accuracy: 0.9030 - scaled_graph_loss: 0.0458 - val_loss: 3.5642 - val_accuracy: 0.8273\n",
            "Epoch 5/15\n",
            "9/9 [==============================] - 57s 6s/step - loss: 0.5050 - accuracy: 0.9364 - scaled_graph_loss: 0.0398 - val_loss: 3.4277 - val_accuracy: 0.8364\n",
            "Epoch 6/15\n",
            "9/9 [==============================] - 57s 6s/step - loss: 0.1838 - accuracy: 0.9727 - scaled_graph_loss: 0.0425 - val_loss: 2.9462 - val_accuracy: 0.8273\n",
            "Epoch 7/15\n",
            "9/9 [==============================] - 57s 6s/step - loss: 0.0555 - accuracy: 0.9879 - scaled_graph_loss: 0.0378 - val_loss: 2.4765 - val_accuracy: 0.8545\n",
            "Epoch 8/15\n",
            "9/9 [==============================] - 59s 6s/step - loss: 0.0408 - accuracy: 1.0000 - scaled_graph_loss: 0.0395 - val_loss: 2.7594 - val_accuracy: 0.8455\n",
            "Epoch 9/15\n",
            "9/9 [==============================] - 57s 6s/step - loss: 0.0407 - accuracy: 1.0000 - scaled_graph_loss: 0.0404 - val_loss: 2.9303 - val_accuracy: 0.8545\n",
            "Epoch 10/15\n",
            "9/9 [==============================] - 57s 6s/step - loss: 0.0407 - accuracy: 1.0000 - scaled_graph_loss: 0.0405 - val_loss: 3.0076 - val_accuracy: 0.8636\n",
            "Epoch 11/15\n",
            "9/9 [==============================] - 59s 6s/step - loss: 0.0408 - accuracy: 1.0000 - scaled_graph_loss: 0.0384 - val_loss: 3.0362 - val_accuracy: 0.8636\n",
            "Epoch 12/15\n",
            "9/9 [==============================] - 57s 6s/step - loss: 0.0407 - accuracy: 1.0000 - scaled_graph_loss: 0.0436 - val_loss: 3.0444 - val_accuracy: 0.8636\n",
            "Epoch 13/15\n",
            "9/9 [==============================] - 57s 6s/step - loss: 0.0408 - accuracy: 1.0000 - scaled_graph_loss: 0.0405 - val_loss: 3.0438 - val_accuracy: 0.8636\n"
          ]
        }
      ]
    },
    {
      "cell_type": "code",
      "source": [
        "Y_pred = np.array([np.argmax(x) for x in gnn_model.predict(X_test)])"
      ],
      "metadata": {
        "id": "2kb-7eXAqaRG"
      },
      "execution_count": 66,
      "outputs": []
    },
    {
      "cell_type": "code",
      "source": [
        "Y_pred,Y_test"
      ],
      "metadata": {
        "colab": {
          "base_uri": "https://localhost:8080/"
        },
        "id": "S6i53jfN1AiO",
        "outputId": "e08b675a-5954-4d34-fa7b-bfe55b848a80"
      },
      "execution_count": 67,
      "outputs": [
        {
          "output_type": "execute_result",
          "data": {
            "text/plain": [
              "(array([0, 3, 0, 2, 2, 3, 0, 0, 0, 1, 0, 0, 2, 3, 1, 0, 1, 0, 0, 3, 0, 2,\n",
              "        3, 3, 0, 3, 0, 2, 3, 1, 2, 1, 1, 0, 2, 2, 2, 0, 2, 1, 1, 2, 0, 2,\n",
              "        1, 2, 2, 0, 3, 2, 0, 2, 0, 0, 3, 3, 2, 2, 3, 1, 3, 2, 3, 3, 3, 1,\n",
              "        1, 1, 0, 2, 3, 3, 3, 3, 2, 3, 2, 2, 2, 2, 1, 2, 3, 3, 2, 1, 2, 3,\n",
              "        0, 0, 2, 3, 1, 2, 3, 3, 3, 2, 1, 1, 3, 2, 3, 2, 0, 0, 0, 2, 1, 0]),\n",
              " array([0, 1, 0, 1, 1, 3, 0, 0, 0, 1, 0, 0, 2, 3, 1, 0, 1, 0, 0, 3, 0, 2,\n",
              "        3, 3, 0, 3, 0, 2, 3, 1, 2, 1, 1, 0, 1, 2, 1, 0, 2, 1, 1, 3, 0, 2,\n",
              "        1, 2, 2, 0, 3, 2, 0, 2, 1, 0, 3, 3, 2, 3, 3, 1, 3, 1, 3, 3, 3, 1,\n",
              "        1, 1, 0, 1, 3, 3, 3, 3, 2, 3, 1, 2, 2, 2, 1, 1, 3, 3, 0, 1, 2, 3,\n",
              "        0, 0, 2, 1, 1, 2, 3, 1, 3, 2, 1, 1, 3, 2, 3, 2, 0, 0, 0, 2, 1, 0]))"
            ]
          },
          "metadata": {},
          "execution_count": 67
        }
      ]
    },
    {
      "cell_type": "code",
      "source": [
        "from sklearn.metrics import accuracy_score, classification_report"
      ],
      "metadata": {
        "id": "PAr4CEFt1RwG"
      },
      "execution_count": 68,
      "outputs": []
    },
    {
      "cell_type": "code",
      "source": [
        "accuracy_score(Y_test,Y_pred)"
      ],
      "metadata": {
        "colab": {
          "base_uri": "https://localhost:8080/"
        },
        "id": "huIbNNxG1yo0",
        "outputId": "d7e7b651-7fd0-439c-8ddf-24ddaaf9cc4e"
      },
      "execution_count": 69,
      "outputs": [
        {
          "output_type": "execute_result",
          "data": {
            "text/plain": [
              "0.8636363636363636"
            ]
          },
          "metadata": {},
          "execution_count": 69
        }
      ]
    },
    {
      "cell_type": "markdown",
      "source": [
        "### **Normal leNet model without graph regularization**"
      ],
      "metadata": {
        "id": "gVlBg5Zl14wp"
      }
    },
    {
      "cell_type": "code",
      "source": [
        "model = Model()"
      ],
      "metadata": {
        "id": "HgJZQZnc112w"
      },
      "execution_count": 74,
      "outputs": []
    },
    {
      "cell_type": "code",
      "source": [
        "model.compile(optimizer=hp.OPT,\n",
        "    loss=hp.LOSS,\n",
        "    metrics=hp.METRICS)"
      ],
      "metadata": {
        "id": "dcmvL8uN2CI1"
      },
      "execution_count": 75,
      "outputs": []
    },
    {
      "cell_type": "code",
      "source": [
        "callback = tf.keras.callbacks.EarlyStopping(monitor='val_accuracy', patience=5)\n",
        "\n",
        "history_ = model.fit(\n",
        "  X_train,Y_train,\n",
        "  validation_data=(X_test,Y_test),\n",
        "  epochs=hp.train_epochs,\n",
        "  callbacks=[callback])"
      ],
      "metadata": {
        "colab": {
          "base_uri": "https://localhost:8080/"
        },
        "id": "m12jhEeL2JvM",
        "outputId": "6ab21063-8df1-48ba-e6f2-842e22e44cba"
      },
      "execution_count": 76,
      "outputs": [
        {
          "output_type": "stream",
          "name": "stdout",
          "text": [
            "Epoch 1/15\n",
            "11/11 [==============================] - 17s 2s/step - loss: 1083.2405 - accuracy: 0.2697 - val_loss: 88.1825 - val_accuracy: 0.2818\n",
            "Epoch 2/15\n",
            "11/11 [==============================] - 16s 1s/step - loss: 28.5416 - accuracy: 0.4333 - val_loss: 7.2151 - val_accuracy: 0.5455\n",
            "Epoch 3/15\n",
            "11/11 [==============================] - 16s 1s/step - loss: 2.0343 - accuracy: 0.7636 - val_loss: 3.0833 - val_accuracy: 0.6273\n",
            "Epoch 4/15\n",
            "11/11 [==============================] - 16s 1s/step - loss: 0.7961 - accuracy: 0.8030 - val_loss: 1.8810 - val_accuracy: 0.7000\n",
            "Epoch 5/15\n",
            "11/11 [==============================] - 16s 1s/step - loss: 0.1523 - accuracy: 0.9545 - val_loss: 1.4160 - val_accuracy: 0.7545\n",
            "Epoch 6/15\n",
            "11/11 [==============================] - 16s 2s/step - loss: 0.0614 - accuracy: 0.9697 - val_loss: 1.3068 - val_accuracy: 0.7545\n",
            "Epoch 7/15\n",
            "11/11 [==============================] - 15s 1s/step - loss: 0.0186 - accuracy: 0.9970 - val_loss: 1.1768 - val_accuracy: 0.7909\n",
            "Epoch 8/15\n",
            "11/11 [==============================] - 16s 1s/step - loss: 0.0079 - accuracy: 1.0000 - val_loss: 1.0896 - val_accuracy: 0.8091\n",
            "Epoch 9/15\n",
            "11/11 [==============================] - 15s 1s/step - loss: 0.0042 - accuracy: 1.0000 - val_loss: 1.0519 - val_accuracy: 0.8091\n",
            "Epoch 10/15\n",
            "11/11 [==============================] - 17s 2s/step - loss: 0.0031 - accuracy: 1.0000 - val_loss: 1.0341 - val_accuracy: 0.8091\n",
            "Epoch 11/15\n",
            "11/11 [==============================] - 15s 1s/step - loss: 0.0023 - accuracy: 1.0000 - val_loss: 1.0235 - val_accuracy: 0.8091\n",
            "Epoch 12/15\n",
            "11/11 [==============================] - 15s 1s/step - loss: 0.0019 - accuracy: 1.0000 - val_loss: 1.0162 - val_accuracy: 0.8182\n",
            "Epoch 13/15\n",
            "11/11 [==============================] - 15s 1s/step - loss: 0.0016 - accuracy: 1.0000 - val_loss: 1.0119 - val_accuracy: 0.8182\n",
            "Epoch 14/15\n",
            "11/11 [==============================] - 16s 1s/step - loss: 0.0014 - accuracy: 1.0000 - val_loss: 1.0052 - val_accuracy: 0.8182\n",
            "Epoch 15/15\n",
            "11/11 [==============================] - 15s 1s/step - loss: 0.0013 - accuracy: 1.0000 - val_loss: 1.0000 - val_accuracy: 0.8273\n"
          ]
        }
      ]
    },
    {
      "cell_type": "code",
      "source": [
        "Y_pred_ = np.array([np.argmax(x) for x in model.predict(X_test)])\n",
        "\n",
        "accuracy_score(Y_test,Y_pred_)"
      ],
      "metadata": {
        "colab": {
          "base_uri": "https://localhost:8080/"
        },
        "id": "E2EFuMVd2cL9",
        "outputId": "8dba16d9-97db-417e-e0df-8ca2bc474a24"
      },
      "execution_count": 77,
      "outputs": [
        {
          "output_type": "execute_result",
          "data": {
            "text/plain": [
              "0.8272727272727273"
            ]
          },
          "metadata": {},
          "execution_count": 77
        }
      ]
    },
    {
      "cell_type": "code",
      "source": [
        "plt.plot(history.history['val_accuracy'])\n",
        "plt.plot(history_.history['val_accuracy'])\n",
        "plt.legend(['With graph reg','Without graph reg'])\n",
        "plt.show()"
      ],
      "metadata": {
        "colab": {
          "base_uri": "https://localhost:8080/",
          "height": 265
        },
        "id": "UQEqqF8R3ZLC",
        "outputId": "e5032ee0-6f23-4dce-8dd3-b85aca64fa84"
      },
      "execution_count": 80,
      "outputs": [
        {
          "output_type": "display_data",
          "data": {
            "text/plain": [
              "<Figure size 432x288 with 1 Axes>"
            ],
            "image/png": "[encoded data removed]"
          },
          "metadata": {
            "needs_background": "light"
          }
        }
      ]
    },
    {
      "cell_type": "code",
      "source": [
        ""
      ],
      "metadata": {
        "id": "5l3jRLTy455e"
      },
      "execution_count": null,
      "outputs": []
    }
  ]
}