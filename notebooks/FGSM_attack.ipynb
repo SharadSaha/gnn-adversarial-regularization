{
  "nbformat": 4,
  "nbformat_minor": 0,
  "metadata": {
    "colab": {
      "name": "FGSM_attack.ipynb",
      "provenance": [],
      "collapsed_sections": []
    },
    "kernelspec": {
      "name": "python3",
      "display_name": "Python 3"
    },
    "language_info": {
      "name": "python"
    }
  },
  "cells": [
    {
      "cell_type": "code",
      "execution_count": null,
      "metadata": {
        "id": "zigu1Qb_7xuy"
      },
      "outputs": [],
      "source": [
        "import tensorflow as tf\n",
        "import numpy as np\n",
        "import matplotlib.pyplot as plt"
      ]
    },
    {
      "cell_type": "markdown",
      "source": [
        "### **Load MNIST dataset**"
      ],
      "metadata": {
        "id": "yTCv7QlN77wO"
      }
    },
    {
      "cell_type": "code",
      "source": [
        "(x_train, y_train), (x_test, y_test) = tf.keras.datasets.mnist.load_data()\n",
        "assert x_train.shape == (60000, 28, 28)\n",
        "assert x_test.shape == (10000, 28, 28)\n",
        "assert y_train.shape == (60000,)\n",
        "assert y_test.shape == (10000,)"
      ],
      "metadata": {
        "id": "-P7l09_I76sn"
      },
      "execution_count": null,
      "outputs": []
    },
    {
      "cell_type": "markdown",
      "source": [
        "**Plot image**"
      ],
      "metadata": {
        "id": "oIH7Cxcz98am"
      }
    },
    {
      "cell_type": "code",
      "source": [
        "def plot(image,label):\n",
        "  plt.imshow(tf.squeeze(image))\n",
        "  print(\"label : \",label)\n",
        "  plt.show()"
      ],
      "metadata": {
        "id": "ZUvDcLxM93IW"
      },
      "execution_count": null,
      "outputs": []
    },
    {
      "cell_type": "code",
      "source": [
        "plot(x_train[0],y_train[0])"
      ],
      "metadata": {
        "colab": {
          "base_uri": "https://localhost:8080/",
          "height": 282
        },
        "id": "XrYqX8Aw-EAr",
        "outputId": "0613e507-cf66-49d5-c716-ee011bd46a38"
      },
      "execution_count": null,
      "outputs": [
        {
          "output_type": "stream",
          "name": "stdout",
          "text": [
            "label :  5\n"
          ]
        },
        {
          "output_type": "display_data",
          "data": {
            "text/plain": [
              "<Figure size 432x288 with 1 Axes>"
            ],
            "image/png": "[encoded data removed]"
          },
          "metadata": {
            "needs_background": "light"
          }
        }
      ]
    },
    {
      "cell_type": "markdown",
      "source": [
        "#### **Image preprocessing**"
      ],
      "metadata": {
        "id": "M-nvZNDYIb3V"
      }
    },
    {
      "cell_type": "code",
      "source": [
        "import pandas as pd\n",
        "\n",
        "def preprocessing(image):\n",
        "  pixels = pd.Series(image.flatten())\n",
        "  bw_pixels = pixels.apply(lambda x: 0 if x<128 else 255)\n",
        "  bw_image = bw_pixels.values.reshape((28,28))\n",
        "  bw_image = bw_image/255.0\n",
        "  final_image = tf.expand_dims(bw_image, axis=2)\n",
        "  return final_image"
      ],
      "metadata": {
        "id": "1pPCd8IfEdRr"
      },
      "execution_count": null,
      "outputs": []
    },
    {
      "cell_type": "code",
      "source": [
        "image,label = x_train[0],y_train[0]\n",
        "plot(image,label)\n",
        "\n",
        "processed_image = preprocessing(image)\n",
        "plot(processed_image,label)"
      ],
      "metadata": {
        "colab": {
          "base_uri": "https://localhost:8080/",
          "height": 548
        },
        "id": "03u1U2ILFcAy",
        "outputId": "dac36dda-7a8b-43fd-c5ac-3d48e3712539"
      },
      "execution_count": null,
      "outputs": [
        {
          "output_type": "stream",
          "name": "stdout",
          "text": [
            "label :  5\n"
          ]
        },
        {
          "output_type": "display_data",
          "data": {
            "text/plain": [
              "<Figure size 432x288 with 1 Axes>"
            ],
            "image/png": "[encoded data removed]"
          },
          "metadata": {
            "needs_background": "light"
          }
        },
        {
          "output_type": "stream",
          "name": "stdout",
          "text": [
            "label :  5\n"
          ]
        },
        {
          "output_type": "display_data",
          "data": {
            "text/plain": [
              "<Figure size 432x288 with 1 Axes>"
            ],
            "image/png": "[encoded data removed]"
          },
          "metadata": {
            "needs_background": "light"
          }
        }
      ]
    },
    {
      "cell_type": "code",
      "source": [
        "X_train=[]\n",
        "X_test=[]\n",
        "for image in x_train:\n",
        "  X_train.append(preprocessing(image))\n",
        "\n",
        "for image in x_test:\n",
        "  X_test.append(preprocessing(image))\n",
        "\n",
        "X_train = np.array(X_train)\n",
        "X_test = np.array(X_test)"
      ],
      "metadata": {
        "id": "4reI4DLFHlGj"
      },
      "execution_count": null,
      "outputs": []
    },
    {
      "cell_type": "markdown",
      "source": [
        "### **Keras CNN model**"
      ],
      "metadata": {
        "id": "yPyQyvf7CgOT"
      }
    },
    {
      "cell_type": "code",
      "source": [
        "def Model():\n",
        "  model = tf.keras.models.Sequential([\n",
        "                                    tf.keras.layers.InputLayer(input_shape=(28,28,1),name='image'),\n",
        "                                    tf.keras.layers.Conv2D(filters=8, kernel_size = 3, input_shape = [28,28,1], activation='relu',padding='same'),\n",
        "                                    tf.keras.layers.MaxPooling2D(padding='same'),\n",
        "                                    tf.keras.layers.Conv2D(filters = 16, kernel_size = 3, activation = 'relu',padding='same'),\n",
        "                                    tf.keras.layers.MaxPooling2D(padding='same'),\n",
        "                                      tf.keras.layers.Conv2D(filters = 32, kernel_size = 3, activation = 'relu',padding='same'),\n",
        "                                    tf.keras.layers.MaxPooling2D(padding='same'),\n",
        "                                    tf.keras.layers.Flatten(),\n",
        "                                    tf.keras.layers.Dense(units=64, activation = 'relu'),\n",
        "                                    tf.keras.layers.Dense(units = 10, activation='softmax')\n",
        "  ])\n",
        "  model.compile(optimizer='adam',loss='sparse_categorical_crossentropy',metrics=['accuracy'])\n",
        "  return model"
      ],
      "metadata": {
        "id": "yLT_xoNDCzCM"
      },
      "execution_count": null,
      "outputs": []
    },
    {
      "cell_type": "code",
      "source": [
        "model = Model()\n",
        "callback = tf.keras.callbacks.EarlyStopping(monitor='val_accuracy', patience=3)"
      ],
      "metadata": {
        "id": "2ZofIHikDj-m"
      },
      "execution_count": null,
      "outputs": []
    },
    {
      "cell_type": "code",
      "source": [
        "model.fit(X_train,y_train,validation_data=(X_test,y_test),epochs=7,callbacks=[callback])"
      ],
      "metadata": {
        "colab": {
          "base_uri": "https://localhost:8080/"
        },
        "id": "99m4fEvvDkCt",
        "outputId": "2b701040-beee-4ac2-819d-5d09b9d234f0"
      },
      "execution_count": null,
      "outputs": [
        {
          "output_type": "stream",
          "name": "stdout",
          "text": [
            "Epoch 1/7\n",
            "1875/1875 [==============================] - 42s 23ms/step - loss: 0.0988 - accuracy: 0.9692 - val_loss: 0.0567 - val_accuracy: 0.9815\n",
            "Epoch 2/7\n",
            "1875/1875 [==============================] - 44s 23ms/step - loss: 0.0593 - accuracy: 0.9815 - val_loss: 0.0461 - val_accuracy: 0.9847\n",
            "Epoch 3/7\n",
            "1875/1875 [==============================] - 47s 25ms/step - loss: 0.0489 - accuracy: 0.9847 - val_loss: 0.0483 - val_accuracy: 0.9849\n",
            "Epoch 4/7\n",
            "1875/1875 [==============================] - 40s 21ms/step - loss: 0.0390 - accuracy: 0.9879 - val_loss: 0.0362 - val_accuracy: 0.9877\n",
            "Epoch 5/7\n",
            "1875/1875 [==============================] - 40s 21ms/step - loss: 0.0351 - accuracy: 0.9887 - val_loss: 0.0392 - val_accuracy: 0.9864\n",
            "Epoch 6/7\n",
            "1875/1875 [==============================] - 41s 22ms/step - loss: 0.0281 - accuracy: 0.9909 - val_loss: 0.0391 - val_accuracy: 0.9878\n",
            "Epoch 7/7\n",
            "1875/1875 [==============================] - 41s 22ms/step - loss: 0.0250 - accuracy: 0.9913 - val_loss: 0.0300 - val_accuracy: 0.9893\n"
          ]
        },
        {
          "output_type": "execute_result",
          "data": {
            "text/plain": [
              "<keras.callbacks.History at 0x7ff390625e90>"
            ]
          },
          "metadata": {},
          "execution_count": 41
        }
      ]
    },
    {
      "cell_type": "code",
      "source": [
        "plot(X_test[0],y_test[0])"
      ],
      "metadata": {
        "colab": {
          "base_uri": "https://localhost:8080/",
          "height": 282
        },
        "id": "1mYubhM7LE_y",
        "outputId": "85a0a09e-baaf-4b38-d3dd-85ff61dcc1d4"
      },
      "execution_count": null,
      "outputs": [
        {
          "output_type": "stream",
          "name": "stdout",
          "text": [
            "label :  7\n"
          ]
        },
        {
          "output_type": "display_data",
          "data": {
            "text/plain": [
              "<Figure size 432x288 with 1 Axes>"
            ],
            "image/png": "[encoded data removed]"
          },
          "metadata": {
            "needs_background": "light"
          }
        }
      ]
    },
    {
      "cell_type": "code",
      "source": [
        "np.argmax(model(np.array([X_test[0]])))"
      ],
      "metadata": {
        "colab": {
          "base_uri": "https://localhost:8080/"
        },
        "id": "5FBV8gA4Ld86",
        "outputId": "0bd12a22-6728-4e28-d2c7-7373a37335dd"
      },
      "execution_count": null,
      "outputs": [
        {
          "output_type": "execute_result",
          "data": {
            "text/plain": [
              "7"
            ]
          },
          "metadata": {},
          "execution_count": 52
        }
      ]
    },
    {
      "cell_type": "code",
      "source": [
        "model.predict(X_test)"
      ],
      "metadata": {
        "colab": {
          "base_uri": "https://localhost:8080/"
        },
        "id": "eRLgC4NhK6FW",
        "outputId": "0776f921-d517-4799-9f41-1c3a7bf9167c"
      },
      "execution_count": null,
      "outputs": [
        {
          "output_type": "execute_result",
          "data": {
            "text/plain": [
              "array([[2.5961153e-10, 5.0094912e-10, 7.1724697e-09, ..., 9.9999976e-01,\n",
              "        1.7823075e-12, 1.9765825e-08],\n",
              "       [2.7902860e-07, 9.0840234e-07, 9.9999881e-01, ..., 4.9608437e-09,\n",
              "        2.4697714e-08, 2.3583496e-08],\n",
              "       [6.5203956e-08, 9.9996579e-01, 9.8819364e-06, ..., 1.8770173e-05,\n",
              "        2.0819866e-07, 1.2225790e-07],\n",
              "       ...,\n",
              "       [1.2341272e-17, 6.5762125e-11, 1.9738469e-12, ..., 1.2879419e-08,\n",
              "        3.5249210e-09, 2.5083219e-07],\n",
              "       [2.3799684e-10, 7.8727302e-10, 7.5401005e-11, ..., 3.5229213e-12,\n",
              "        3.5027962e-05, 4.3069495e-08],\n",
              "       [3.2979892e-06, 1.1753208e-10, 6.9951551e-09, ..., 3.3712111e-12,\n",
              "        9.9979381e-08, 8.8821700e-10]], dtype=float32)"
            ]
          },
          "metadata": {},
          "execution_count": 47
        }
      ]
    },
    {
      "cell_type": "markdown",
      "source": [
        "# **Creating adversarial example using FGSM**"
      ],
      "metadata": {
        "id": "dxqUenr2-oJV"
      }
    },
    {
      "cell_type": "markdown",
      "source": [
        "![image.png](data:image/png;base64,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)"
      ],
      "metadata": {
        "id": "AzHeP8mJ_LX2"
      }
    },
    {
      "cell_type": "code",
      "source": [
        "Loss = tf.keras.losses.CategoricalCrossentropy()\n",
        "\n",
        "def get_adversarial_pattern(image,label):\n",
        "  with tf.GradientTape() as tape:\n",
        "    tape.watch(image)\n",
        "    y_pred = model(image)\n",
        "    loss = Loss(label,y_pred)\n",
        "    gradient = tape.gradient(loss, image)\n",
        "  signed_grad = tf.sign(gradient)\n",
        "  return signed_grad"
      ],
      "metadata": {
        "id": "Z0NN2q2x-HGz"
      },
      "execution_count": null,
      "outputs": []
    },
    {
      "cell_type": "markdown",
      "source": [
        "## **Creating and visualizing the perturbations**"
      ],
      "metadata": {
        "id": "83CHQ4saVu35"
      }
    },
    {
      "cell_type": "markdown",
      "source": [
        "#### **Finding the suitable image for adversarial attack**"
      ],
      "metadata": {
        "id": "hoTWm3-GebB1"
      }
    },
    {
      "cell_type": "code",
      "source": [
        "y_pred = model(X_test)\n",
        "# y_pred[np.argmin(y_pred)]\n",
        "\n",
        "for i in range(len(y_pred)):\n",
        "  pred = np.argmax(y_pred[i])\n",
        "  confidence = y_pred[i][np.argmax(y_pred[i])]*100\n",
        "  if confidence>60 and confidence<62 and pred==y_test[i]:\n",
        "    print(i)"
      ],
      "metadata": {
        "colab": {
          "base_uri": "https://localhost:8080/"
        },
        "id": "p8b4_zkTYG_u",
        "outputId": "8b599bf2-f2e2-4953-c5a8-f597de440ea2"
      },
      "execution_count": null,
      "outputs": [
        {
          "output_type": "stream",
          "name": "stdout",
          "text": [
            "2185\n",
            "2293\n",
            "2532\n",
            "4508\n",
            "4860\n",
            "6093\n",
            "9587\n"
          ]
        }
      ]
    },
    {
      "cell_type": "code",
      "source": [
        "index = 2185\n",
        "\n",
        "image = tf.convert_to_tensor(X_test[index])\n",
        "image = tf.reshape(image,(1,28,28,1))\n",
        "label = tf.one_hot(y_test[index],10)\n",
        "label = tf.reshape(label, (1,10))\n",
        "perturbations = get_adversarial_pattern(image, label)\n",
        "plot(perturbations[0] * 0.5 + 0.5,y_test[index])"
      ],
      "metadata": {
        "colab": {
          "base_uri": "https://localhost:8080/",
          "height": 282
        },
        "id": "TYeb3eQYNP1Y",
        "outputId": "f0ed2c0c-b410-4a32-8fc7-fe3e5cefece1"
      },
      "execution_count": null,
      "outputs": [
        {
          "output_type": "stream",
          "name": "stdout",
          "text": [
            "label :  0\n"
          ]
        },
        {
          "output_type": "display_data",
          "data": {
            "text/plain": [
              "<Figure size 432x288 with 1 Axes>"
            ],
            "image/png": "[encoded data removed]"
          },
          "metadata": {
            "needs_background": "light"
          }
        }
      ]
    },
    {
      "cell_type": "markdown",
      "source": [
        "### **Visualizing the difference in confidence on addition of pertubations**"
      ],
      "metadata": {
        "id": "wz1MakvXWNMg"
      }
    },
    {
      "cell_type": "code",
      "source": [
        "def display_image(image,label,desc):\n",
        "  pred = model(image)\n",
        "  confidence = pred[0][label]\n",
        "  plt.figure()\n",
        "  plt.imshow(tf.squeeze(image[0]*0.5+0.5))\n",
        "  plt.title('{} \\n {} : {:.2f}% Confidence'.format(desc,label, confidence*100))\n",
        "  plt.show()"
      ],
      "metadata": {
        "id": "j57z5U2QVFu3"
      },
      "execution_count": null,
      "outputs": []
    },
    {
      "cell_type": "code",
      "source": [
        "plot(image,np.argmax(label))"
      ],
      "metadata": {
        "colab": {
          "base_uri": "https://localhost:8080/",
          "height": 282
        },
        "id": "U_bt_CCZaXyt",
        "outputId": "c44d1958-2110-4269-ed03-85b5ff4a2085"
      },
      "execution_count": null,
      "outputs": [
        {
          "output_type": "stream",
          "name": "stdout",
          "text": [
            "label :  0\n"
          ]
        },
        {
          "output_type": "display_data",
          "data": {
            "text/plain": [
              "<Figure size 432x288 with 1 Axes>"
            ],
            "image/png": "[encoded data removed]"
          },
          "metadata": {
            "needs_background": "light"
          }
        }
      ]
    },
    {
      "cell_type": "code",
      "source": [
        "pred = model(image)\n",
        "pred[0],np.argmax(pred[0]),pred[0][np.argmax(pred[0])]"
      ],
      "metadata": {
        "colab": {
          "base_uri": "https://localhost:8080/"
        },
        "id": "4kw6y0HOcx7_",
        "outputId": "82ed2fae-a5ed-4490-b1fe-81cde9f7e31a"
      },
      "execution_count": null,
      "outputs": [
        {
          "output_type": "execute_result",
          "data": {
            "text/plain": [
              "(<tf.Tensor: shape=(10,), dtype=float32, numpy=\n",
              " array([6.1305565e-01, 2.6238987e-03, 7.9627341e-04, 1.1502046e-05,\n",
              "        3.0325045e-05, 2.6578948e-04, 1.2744160e-02, 9.3206974e-05,\n",
              "        3.7027755e-01, 1.0168973e-04], dtype=float32)>,\n",
              " 0,\n",
              " <tf.Tensor: shape=(), dtype=float32, numpy=0.61305565>)"
            ]
          },
          "metadata": {},
          "execution_count": 156
        }
      ]
    },
    {
      "cell_type": "code",
      "source": [
        "epsilons = [0, 0.01, 0.04, 0.05,0.09,0.15]\n",
        "descriptions = [('Epsilon = {:0.3f}'.format(eps) if eps else 'Input')\n",
        "                for eps in epsilons]\n",
        "\n",
        "for i, eps in enumerate(epsilons):\n",
        "  adv_x = image + eps*perturbations\n",
        "  adv_x = tf.clip_by_value(adv_x, -1, 1)\n",
        "  display_image(adv_x,y_test[index],descriptions[i])"
      ],
      "metadata": {
        "colab": {
          "base_uri": "https://localhost:8080/",
          "height": 1000
        },
        "id": "0i83FCtobFG-",
        "outputId": "a59d3c64-61f7-41d0-f9bb-ed8388bc0a48"
      },
      "execution_count": null,
      "outputs": [
        {
          "output_type": "display_data",
          "data": {
            "text/plain": [
              "<Figure size 432x288 with 1 Axes>"
            ],
            "image/png": "[encoded data removed]"
          },
          "metadata": {
            "needs_background": "light"
          }
        },
        {
          "output_type": "display_data",
          "data": {
            "text/plain": [
              "<Figure size 432x288 with 1 Axes>"
            ],
            "image/png": "[encoded data removed]"
          },
          "metadata": {
            "needs_background": "light"
          }
        },
        {
          "output_type": "display_data",
          "data": {
            "text/plain": [
              "<Figure size 432x288 with 1 Axes>"
            ],
            "image/png": "[encoded data removed]"
          },
          "metadata": {
            "needs_background": "light"
          }
        },
        {
          "output_type": "display_data",
          "data": {
            "text/plain": [
              "<Figure size 432x288 with 1 Axes>"
            ],
            "image/png": "[encoded data removed]"
          },
          "metadata": {
            "needs_background": "light"
          }
        },
        {
          "output_type": "display_data",
          "data": {
            "text/plain": [
              "<Figure size 432x288 with 1 Axes>"
            ],
            "image/png": "[encoded data removed]"
          },
          "metadata": {
            "needs_background": "light"
          }
        },
        {
          "output_type": "display_data",
          "data": {
            "text/plain": [
              "<Figure size 432x288 with 1 Axes>"
            ],
            "image/png": "[encoded data removed]"
          },
          "metadata": {
            "needs_background": "light"
          }
        }
      ]
    },
    {
      "cell_type": "markdown",
      "source": [
        "### **Observation : The confidence of the image classified as 0 decreases and goes as low as 0.02% on addition of pertubation, while the image still remains visually similar to a zero.**"
      ],
      "metadata": {
        "id": "gif1MZ-1eD7n"
      }
    }
  ]
}